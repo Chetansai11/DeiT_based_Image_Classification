{
 "cells": [
  {
   "cell_type": "code",
   "execution_count": 7,
   "id": "899ff2eb-75b7-4d99-a1cb-ba9376ad7ee2",
   "metadata": {},
   "outputs": [],
   "source": [
    "import os\n",
    "import random\n",
    "from torchvision import transforms\n",
    "from PIL import Image"
   ]
  },
  {
   "cell_type": "code",
   "execution_count": 8,
   "id": "76f49592-0010-438b-8d9c-c57ce53aaad9",
   "metadata": {},
   "outputs": [],
   "source": [
    "ignore_folder = \"cat11 L_ShopMall\""
   ]
  },
  {
   "cell_type": "code",
   "execution_count": 9,
   "id": "e52c814d-2e8a-4b07-9e53-fdfb74dd8336",
   "metadata": {},
   "outputs": [],
   "source": [
    "dataset_path = \"validation\""
   ]
  },
  {
   "cell_type": "code",
   "execution_count": 10,
   "id": "cb7ec5cd-2e56-45e4-908b-0e55cf4523c8",
   "metadata": {},
   "outputs": [],
   "source": [
    "augmentation_transform = transforms.Compose([\n",
    "    transforms.RandomHorizontalFlip(p=1.0),  # Flip image\n",
    "    transforms.ColorJitter(brightness=0.2, contrast=0.2, saturation=0.2, hue=0.1),  # Adjust color\n",
    "])"
   ]
  },
  {
   "cell_type": "code",
   "execution_count": 11,
   "id": "ba522ad2-56fe-48b2-a566-133a1b3c5ce4",
   "metadata": {},
   "outputs": [],
   "source": [
    "target_count = 105"
   ]
  },
  {
   "cell_type": "code",
   "execution_count": 12,
   "id": "cbf9fdfb-9c34-4fe0-8279-19306489626a",
   "metadata": {},
   "outputs": [
    {
     "name": "stdout",
     "output_type": "stream",
     "text": [
      "Class 'cat07 MasAptMotel' balanced to 105 images.\n",
      "Class 'cat10 StripMall' balanced to 105 images.\n",
      "Class 'cat17 LowRise' balanced to 105 images.\n",
      "Class 'cat18 MidRise' balanced to 105 images.\n",
      "Class 'cat19 HighRise' balanced to 105 images.\n",
      "Class 'cat21 MetalBldg' balanced to 105 images.\n",
      "Class 'cat22 Canopy' balanced to 105 images.\n",
      "Dataset balancing completed!\n"
     ]
    }
   ],
   "source": [
    "for class_name in os.listdir(dataset_path):\n",
    "    class_path = os.path.join(dataset_path, class_name)\n",
    "    \n",
    "    # Skip non-directories and the folder to ignore\n",
    "    if not os.path.isdir(class_path) or class_name == ignore_folder:\n",
    "        print(f\"Skipping folder: {class_name}\")\n",
    "        continue\n",
    "\n",
    "    # List all images in the class\n",
    "    images = os.listdir(class_path)\n",
    "    image_count = len(images)\n",
    "    \n",
    "    if image_count < target_count:\n",
    "        # Underrepresented class: augment data\n",
    "        while image_count < target_count:\n",
    "            image_name = random.choice(images)\n",
    "            image_path = os.path.join(class_path, image_name)\n",
    "            \n",
    "            # Load the image and apply augmentation\n",
    "            image = Image.open(image_path).convert(\"RGB\")\n",
    "            augmented_image = augmentation_transform(image)\n",
    "            \n",
    "            # Save augmented image with a unique name\n",
    "            new_image_name = f\"augmented_{image_count}.jpg\"\n",
    "            augmented_image.save(os.path.join(class_path, new_image_name))\n",
    "            \n",
    "            image_count += 1\n",
    "    elif image_count > target_count:\n",
    "        # Overrepresented class: randomly delete images\n",
    "        random.shuffle(images)\n",
    "        images_to_remove = images[target_count:]  # Keep only the first `target_count` images\n",
    "        \n",
    "        for image_name in images_to_remove:\n",
    "            image_path = os.path.join(class_path, image_name)\n",
    "            os.remove(image_path)\n",
    "\n",
    "    print(f\"Class '{class_name}' balanced to {target_count} images.\")\n",
    "\n",
    "print(\"Dataset balancing completed!\")"
   ]
  },
  {
   "cell_type": "code",
   "execution_count": null,
   "id": "4e0a9cbe-4173-492b-aad9-9749c37c2235",
   "metadata": {},
   "outputs": [],
   "source": []
  }
 ],
 "metadata": {
  "kernelspec": {
   "display_name": "Python 3 (ipykernel)",
   "language": "python",
   "name": "python3"
  },
  "language_info": {
   "codemirror_mode": {
    "name": "ipython",
    "version": 3
   },
   "file_extension": ".py",
   "mimetype": "text/x-python",
   "name": "python",
   "nbconvert_exporter": "python",
   "pygments_lexer": "ipython3",
   "version": "3.11.10"
  }
 },
 "nbformat": 4,
 "nbformat_minor": 5
}
