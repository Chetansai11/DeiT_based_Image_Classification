{
 "cells": [
  {
   "cell_type": "markdown",
   "id": "ab7a6185-36cb-4f26-92aa-75652fa7ca16",
   "metadata": {},
   "source": [
    "## By: Chetan Sai Borra\n",
    "UIN: 436000947"
   ]
  },
  {
   "cell_type": "code",
   "execution_count": 1,
   "id": "a195df96-f94c-4852-9c94-5358c0373409",
   "metadata": {},
   "outputs": [
    {
     "name": "stderr",
     "output_type": "stream",
     "text": [
      "C:\\Users\\asus\\anaconda3\\envs\\pytorch\\Lib\\site-packages\\tqdm\\auto.py:21: TqdmWarning: IProgress not found. Please update jupyter and ipywidgets. See https://ipywidgets.readthedocs.io/en/stable/user_install.html\n",
      "  from .autonotebook import tqdm as notebook_tqdm\n"
     ]
    }
   ],
   "source": [
    "import torch\n",
    "from torchvision import datasets, transforms\n",
    "from torch.utils.data import DataLoader\n",
    "import torchvision\n",
    "import torch.optim as optim\n",
    "import torch.nn as nn\n",
    "import torch.nn.functional as F\n",
    "import numpy as np\n",
    "import os\n",
    "from torchinfo import summary\n",
    "import matplotlib.pyplot as plt\n",
    "from timm import create_model\n",
    "from timm.data import Mixup\n",
    "import re\n",
    "from timm.scheduler import CosineLRScheduler"
   ]
  },
  {
   "cell_type": "code",
   "execution_count": 2,
   "id": "f5a70ace-a57e-4936-8457-2932733b0186",
   "metadata": {},
   "outputs": [],
   "source": [
    "from torch.utils.data import random_split\n",
    "import random\n",
    "from sklearn.metrics import classification_report, confusion_matrix\n",
    "from tqdm import tqdm"
   ]
  },
  {
   "cell_type": "markdown",
   "id": "d91811ba-6831-47a0-8e10-636ea77c013b",
   "metadata": {},
   "source": [
    "### Setting device as Cuda for training"
   ]
  },
  {
   "cell_type": "code",
   "execution_count": 3,
   "id": "efe86ca5-dcd9-4065-9ea3-0f4cc7906c93",
   "metadata": {},
   "outputs": [
    {
     "name": "stdout",
     "output_type": "stream",
     "text": [
      "cuda\n"
     ]
    }
   ],
   "source": [
    "device = torch.device(\"cuda\" if torch.cuda.is_available() else \"cpu\")\n",
    "print(device)"
   ]
  },
  {
   "cell_type": "markdown",
   "id": "d0a94c24-562d-403d-946e-ab35f6bd9381",
   "metadata": {},
   "source": [
    "### Using Transformations for encoding to tensor"
   ]
  },
  {
   "cell_type": "code",
   "execution_count": 4,
   "id": "e664d374-516d-4296-93ba-111020128eff",
   "metadata": {},
   "outputs": [],
   "source": [
    "transform = transforms.Compose([\n",
    "    transforms.Resize((224, 224)),\n",
    "    transforms.RandomHorizontalFlip(),\n",
    "    transforms.ColorJitter(),\n",
    "    transforms.ToTensor(),  \n",
    "    transforms.Normalize(mean=[0.485, 0.456, 0.406], std=[0.229, 0.224, 0.225])  # Normalize\n",
    "])"
   ]
  },
  {
   "cell_type": "code",
   "execution_count": 5,
   "id": "ba34befd-a243-4c82-b25f-e0534a383b53",
   "metadata": {},
   "outputs": [],
   "source": [
    "train_path = \"train\"\n",
    "validation_path = \"validation\"\n"
   ]
  },
  {
   "cell_type": "markdown",
   "id": "22fa74d7-d799-4fa2-ac89-8c5ee62ab234",
   "metadata": {},
   "source": [
    "### Creating The dataset "
   ]
  },
  {
   "cell_type": "code",
   "execution_count": 6,
   "id": "8a94fd37-fda5-4d0e-be1d-e660faf1e051",
   "metadata": {},
   "outputs": [],
   "source": [
    "train_dataset = datasets.ImageFolder(root=train_path, transform=transform)\n",
    "val_dataset = datasets.ImageFolder(root=validation_path, transform=transform)\n"
   ]
  },
  {
   "cell_type": "markdown",
   "id": "880a0ae7-403e-43fa-893b-2dce2d3bec1b",
   "metadata": {},
   "source": [
    "### Spliting Validation into validation and testing in 80:20 ratio"
   ]
  },
  {
   "cell_type": "code",
   "execution_count": 7,
   "id": "d85b7557-2268-4279-b515-df25d40b9fa3",
   "metadata": {},
   "outputs": [],
   "source": [
    "val_size = int(0.8 * len(val_dataset))\n",
    "test_size = len(val_dataset) - val_size\n",
    "val_dataset, test_dataset = random_split(val_dataset, [val_size, test_size])"
   ]
  },
  {
   "cell_type": "markdown",
   "id": "b9388f3a-1c5b-4b23-83b0-b490e1da7733",
   "metadata": {},
   "source": [
    "### Creating the dataloder for training "
   ]
  },
  {
   "cell_type": "code",
   "execution_count": 8,
   "id": "79be24cb-9a5b-4287-9acd-6de74f561434",
   "metadata": {},
   "outputs": [
    {
     "name": "stdout",
     "output_type": "stream",
     "text": [
      "Training samples: 4900\n",
      "Validation samples: 588\n",
      "Test samples: 147\n"
     ]
    }
   ],
   "source": [
    "train_loader = DataLoader(train_dataset, batch_size=128, shuffle=True, num_workers=4)\n",
    "val_loader = DataLoader(val_dataset, batch_size=128, shuffle=False, num_workers=4)\n",
    "test_loader = DataLoader(test_dataset, batch_size=128, shuffle=False, num_workers=4)\n",
    "\n",
    "# Summary of dataset sizes\n",
    "print(f\"Training samples: {len(train_loader.dataset)}\")\n",
    "print(f\"Validation samples: {len(val_loader.dataset)}\")\n",
    "print(f\"Test samples: {len(test_loader.dataset)}\")"
   ]
  },
  {
   "cell_type": "markdown",
   "id": "b31a9a91-2b00-4101-93d2-508fbf897116",
   "metadata": {},
   "source": [
    "### Function to plot the graphs from the logs"
   ]
  },
  {
   "cell_type": "code",
   "execution_count": 9,
   "id": "f79dc8c7-e9f2-4f96-9557-fe26b7139d93",
   "metadata": {},
   "outputs": [],
   "source": [
    "def plot_loss(log_file_path):\n",
    "    epochs = []\n",
    "    train_losses = []\n",
    "    train_accuracies = []\n",
    "    val_losses = []\n",
    "    val_accuracies = []\n",
    "\n",
    "    log_pattern = r\"Epoch (\\d+)/\\d+, Train Loss: ([\\d.]+), Train Acc: ([\\d.]+), Val Loss: ([\\d.]+), Val Acc: ([\\d.]+)\"\n",
    "\n",
    "    with open(log_file_path, 'r') as f:\n",
    "        for line in f:\n",
    "            match = re.search(log_pattern, line)\n",
    "            if match:\n",
    "                epoch = int(match.group(1))\n",
    "                train_loss = float(match.group(2))\n",
    "                train_acc = float(match.group(3))\n",
    "                val_loss = float(match.group(4))\n",
    "                val_acc = float(match.group(5))\n",
    "    \n",
    "                epochs.append(epoch)\n",
    "                train_losses.append(train_loss)\n",
    "                train_accuracies.append(train_acc)\n",
    "                val_losses.append(val_loss)\n",
    "                val_accuracies.append(val_acc)\n",
    "    \n",
    "    fig, ax = plt.subplots(1, 2, figsize=(14, 6))\n",
    "    \n",
    "    \n",
    "    ax[0].plot(epochs, train_losses, label='Train Loss', color='blue')\n",
    "    ax[0].plot(epochs, val_losses, label='Validation Loss', color='red')\n",
    "    ax[0].set_title('Losses over Epochs')\n",
    "    ax[0].set_xlabel('Epoch')\n",
    "    ax[0].set_ylabel('Loss')\n",
    "    ax[0].legend()\n",
    "    \n",
    "    ax[1].plot(epochs, train_accuracies, label='Train Accuracy', color='blue')\n",
    "    ax[1].plot(epochs, val_accuracies, label='Validation Accuracy', color='red')\n",
    "    ax[1].set_title('Accuracy over Epochs')\n",
    "    ax[1].set_xlabel('Epoch')\n",
    "    ax[1].set_ylabel('Accuracy')\n",
    "    ax[1].legend()\n",
    "    \n",
    "    plt.tight_layout()\n",
    "    plt.show()\n"
   ]
  },
  {
   "cell_type": "markdown",
   "id": "364297a3-5ce7-47db-8b15-1d2318dc5660",
   "metadata": {},
   "source": [
    "### Function for checking the images and dataloder "
   ]
  },
  {
   "cell_type": "code",
   "execution_count": 10,
   "id": "4c223b2d-49af-40c0-b85b-9dc195736890",
   "metadata": {},
   "outputs": [],
   "source": [
    "def show_images(images, labels, class_names):\n",
    "    fig, axes = plt.subplots(1, len(images), figsize=(15, 5))\n",
    "    if len(images) == 1: \n",
    "        axes = [axes]\n",
    "    for img, label, ax in zip(images, labels, axes):\n",
    "        img = img.permute(1, 2, 0).numpy()  \n",
    "        img = img * [0.229, 0.224, 0.225] + [0.485, 0.456, 0.406]  \n",
    "        img = img.clip(0, 1) \n",
    "        ax.imshow(img)\n",
    "        ax.set_title(class_names[label])\n",
    "        ax.axis('off')\n",
    "    plt.show()\n"
   ]
  },
  {
   "cell_type": "markdown",
   "id": "f534e8cf-8d78-42aa-b007-8ed3f3734de5",
   "metadata": {},
   "source": [
    "### Verifying the images and labels"
   ]
  },
  {
   "cell_type": "code",
   "execution_count": 11,
   "id": "853f9fbb-ac4f-4235-b576-0452017cdee0",
   "metadata": {},
   "outputs": [
    {
     "name": "stdout",
     "output_type": "stream",
     "text": [
      "Sample Labels: ['cat17 LowRise', 'cat22 Canopy', 'cat10 StripMall', 'cat18 MidRise', 'cat07 MasAptMotel', 'cat18 MidRise', 'cat19 HighRise', 'cat22 Canopy', 'cat07 MasAptMotel', 'cat19 HighRise']\n"
     ]
    },
    {
     "data": {
      "image/png": "[encoded data removed]",
      "text/plain": [
       "<Figure size 1500x500 with 10 Axes>"
      ]
     },
     "metadata": {},
     "output_type": "display_data"
    }
   ],
   "source": [
    "dataiter = iter(train_loader)\n",
    "images, labels = next(dataiter)\n",
    "\n",
    "class_names = train_dataset.classes  \n",
    "\n",
    "print(\"Sample Labels:\", [class_names[label] for label in labels[:10]]) \n",
    "show_images(images[:10], labels[:10], class_names)"
   ]
  },
  {
   "cell_type": "markdown",
   "id": "c41ef6bc-ed9d-4bea-8dfd-d783f20faa77",
   "metadata": {},
   "source": [
    "### Verifying the shape of input data"
   ]
  },
  {
   "cell_type": "code",
   "execution_count": 12,
   "id": "6bd975f5-4dc1-4266-99a2-7e16dfe69462",
   "metadata": {},
   "outputs": [
    {
     "name": "stdout",
     "output_type": "stream",
     "text": [
      "Label range in train_loader: 0 to 6\n",
      "torch.Size([128, 3, 224, 224])\n",
      "torch.Size([128])\n"
     ]
    }
   ],
   "source": [
    "for image, label in train_loader:\n",
    "    print(f\"Label range in train_loader: {label.min()} to {label.max()}\")\n",
    "    print(image.shape)\n",
    "    print(label.shape)\n",
    "    break\n"
   ]
  },
  {
   "cell_type": "markdown",
   "id": "74b13c74-9b6e-485c-acc5-b8583fbcd702",
   "metadata": {},
   "source": [
    "# Building and Implementing the DeiT Model\n",
    "\n",
    "## Introduction\n",
    "The **Data-efficient Image Transformer (DeiT)** is a vision transformer model that offers competitive performance in image classification tasks with fewer labeled data. Unlike convolutional neural networks (CNNs), DeiT directly processes image patches as input, leveraging the self-attention mechanism for feature extraction.\n",
    "\n",
    "## Key Features\n",
    "- **Patch Embeddings**: Images are divided into fixed-size patches, which are linearly projected into embedding space.\n",
    "- **Self-Attention**: Captures long-range dependencies and relationships between image patches.\n",
    "- **Class Token**: Represents the global image representation, used for classification.\n",
    "- **Data Efficiency**: Optimized training strategies allow effective learning with less labeled data.\n"
   ]
  },
  {
   "cell_type": "code",
   "execution_count": 13,
   "id": "7495258d-9764-409f-996d-76d0d6e6be4d",
   "metadata": {},
   "outputs": [],
   "source": [
    "class PatchEmbedding(nn.Module):\n",
    "    def __init__(self, img_size=224, patch_size=16, in_channels=3, embed_dim=192):\n",
    "        super(PatchEmbedding, self).__init__()\n",
    "        self.img_size = img_size\n",
    "        self.patch_size = patch_size\n",
    "        self.num_patches = (img_size // patch_size) ** 2\n",
    "        self.projection = nn.Conv2d(in_channels, embed_dim, kernel_size=patch_size, stride=patch_size)\n",
    "\n",
    "    def forward(self, x):\n",
    "        x = self.projection(x)  # [B, embed_dim, H/P, W/P]\n",
    "        x = x.flatten(2)  # [B, embed_dim, num_patches]\n",
    "        x = x.transpose(1, 2)  # [B, num_patches, embed_dim]\n",
    "        return x"
   ]
  },
  {
   "cell_type": "code",
   "execution_count": 14,
   "id": "897f438e-76f9-4682-8c51-36965ff88da8",
   "metadata": {},
   "outputs": [],
   "source": [
    "class MultiHeadSelfAttention(nn.Module):\n",
    "    def __init__(self, embed_dim, num_heads, dropout=0.3, qkv_bias=True):\n",
    "        super(MultiHeadSelfAttention, self).__init__()\n",
    "        self.num_heads = num_heads\n",
    "        self.head_dim = embed_dim // num_heads\n",
    "        self.scale = self.head_dim ** -0.5\n",
    "\n",
    "        self.query = nn.Linear(embed_dim, embed_dim, bias=qkv_bias)\n",
    "        self.key = nn.Linear(embed_dim, embed_dim, bias=qkv_bias)\n",
    "        self.value = nn.Linear(embed_dim, embed_dim, bias=qkv_bias)\n",
    "        self.proj = nn.Linear(embed_dim, embed_dim)\n",
    "        self.dropout = nn.Dropout(dropout)\n",
    "\n",
    "    def forward(self, x):\n",
    "        B, N, C = x.shape\n",
    "        q = self.query(x).reshape(B, N, self.num_heads, self.head_dim).permute(0, 2, 1, 3)  # [B, heads, N, head_dim]\n",
    "        k = self.key(x).reshape(B, N, self.num_heads, self.head_dim).permute(0, 2, 1, 3)\n",
    "        v = self.value(x).reshape(B, N, self.num_heads, self.head_dim).permute(0, 2, 1, 3)\n",
    "\n",
    "        attn = (q @ k.transpose(-2, -1)) * self.scale\n",
    "        attn = F.softmax(attn, dim=-1)\n",
    "        attn = self.dropout(attn)\n",
    "\n",
    "        x = (attn @ v).permute(0, 2, 1, 3).reshape(B, N, C)\n",
    "        x = self.proj(x)\n",
    "        x = self.dropout(x)\n",
    "        return x\n"
   ]
  },
  {
   "cell_type": "code",
   "execution_count": 15,
   "id": "afda557e-12d1-4a95-ab92-6a8c2573a245",
   "metadata": {},
   "outputs": [],
   "source": [
    "class TransformerBlock(nn.Module):\n",
    "    def __init__(self, embed_dim, num_heads, mlp_ratio=5.0, dropout=0.3):\n",
    "        super(TransformerBlock, self).__init__()\n",
    "        self.attn = MultiHeadSelfAttention(embed_dim, num_heads, dropout)\n",
    "        self.norm1 = nn.LayerNorm(embed_dim)\n",
    "        self.mlp = nn.Sequential(\n",
    "            nn.Linear(embed_dim, int(embed_dim * mlp_ratio)),\n",
    "            nn.GELU(),\n",
    "            nn.Dropout(dropout),\n",
    "            nn.Linear(int(embed_dim * mlp_ratio), embed_dim),\n",
    "            nn.Dropout(dropout),\n",
    "        )\n",
    "        self.norm2 = nn.LayerNorm(embed_dim)\n",
    "\n",
    "    def forward(self, x):\n",
    "        x = x + self.attn(self.norm1(x))\n",
    "        x = x + self.mlp(self.norm2(x))\n",
    "        return x\n"
   ]
  },
  {
   "cell_type": "code",
   "execution_count": 20,
   "id": "658664ac-d7b8-423c-b9e1-f1e9e39c652e",
   "metadata": {},
   "outputs": [],
   "source": [
    "pretrained_deit = create_model('deit_tiny_patch16_224', pretrained=True)"
   ]
  },
  {
   "cell_type": "code",
   "execution_count": 21,
   "id": "f6dc5436-fcd3-40c8-972d-e004daf85658",
   "metadata": {},
   "outputs": [],
   "source": [
    "class DeiTTiny(nn.Module):\n",
    "    def __init__(self, img_size=224, patch_size=16, num_classes=7, embed_dim=192, depth=8, num_heads=6, mlp_ratio=5.0, dropout=0.3):\n",
    "        super(DeiTTiny, self).__init__()\n",
    "        self.patch_embed = PatchEmbedding(img_size, patch_size, in_channels=3, embed_dim=embed_dim)\n",
    "        self.cls_token = nn.Parameter(torch.zeros(1, 1, embed_dim))\n",
    "        self.pos_embed = nn.Parameter(torch.zeros(1, 1 + self.patch_embed.num_patches, embed_dim))\n",
    "        self.dropout = nn.Dropout(dropout)\n",
    "\n",
    "        self.blocks = nn.ModuleList([\n",
    "            pretrained_deit.blocks[i] if i < 6 else\n",
    "            TransformerBlock(embed_dim, num_heads, mlp_ratio, dropout)\n",
    "            for i in range(depth)\n",
    "        ])\n",
    "\n",
    "        for i in range(2):  # Freezing first 2 blocks\n",
    "            for param in self.blocks[i].parameters():\n",
    "                param.requires_grad = False\n",
    "\n",
    "        self.norm = nn.LayerNorm(embed_dim)\n",
    "        self.head = nn.Linear(embed_dim, 256)\n",
    "        self.norm1 = nn.LayerNorm(256)\n",
    "        self.head1 = nn.Linear(256, num_classes)\n",
    "\n",
    "        self._init_weights()\n",
    "\n",
    "    def _init_weights(self):\n",
    "        nn.init.trunc_normal_(self.cls_token, std=0.02)\n",
    "        nn.init.trunc_normal_(self.pos_embed, std=0.02)\n",
    "        for module in self.modules():\n",
    "            if isinstance(module, nn.Linear):\n",
    "                nn.init.trunc_normal_(module.weight, std=0.02)\n",
    "                nn.init.constant_(module.bias, 0)\n",
    "            elif isinstance(module, nn.LayerNorm):\n",
    "                nn.init.constant_(module.bias, 0)\n",
    "                nn.init.constant_(module.weight, 1.0)\n",
    "\n",
    "    def forward(self, x):\n",
    "        B = x.shape[0]\n",
    "        x = self.patch_embed(x)  # [B, num_patches, embed_dim]\n",
    "        cls_token = self.cls_token.expand(B, -1, -1)  # [B, 1, embed_dim]\n",
    "        x = torch.cat((cls_token, x), dim=1)  # [B, 1 + num_patches, embed_dim]\n",
    "        x = x + self.pos_embed\n",
    "        x = self.dropout(x)\n",
    "\n",
    "        for block in self.blocks:\n",
    "            x = block(x)\n",
    "\n",
    "        x = self.norm(x)\n",
    "        cls_output = x[:, 0]  # Extract CLS token\n",
    "        x = self.head(cls_output)\n",
    "        x = self.norm1(x)\n",
    "        x = self.head1(x)\n",
    "        return x"
   ]
  },
  {
   "cell_type": "code",
   "execution_count": 22,
   "id": "623602ab-6477-479e-a947-43fb6c1dea4d",
   "metadata": {},
   "outputs": [],
   "source": [
    "model = DeiTTiny(num_classes=7)"
   ]
  },
  {
   "cell_type": "markdown",
   "id": "f00db6dc-0dc4-42fa-8764-92c72be7f8f1",
   "metadata": {},
   "source": [
    "## Model Summary"
   ]
  },
  {
   "cell_type": "code",
   "execution_count": 23,
   "id": "8f1e7377-7259-4348-8111-d5bebd07730b",
   "metadata": {},
   "outputs": [
    {
     "data": {
      "text/plain": [
       "======================================================================\n",
       "Layer (type:depth-idx)                        Param #\n",
       "======================================================================\n",
       "DeiTTiny                                      38,016\n",
       "├─PatchEmbedding: 1-1                         --\n",
       "│    └─Conv2d: 2-1                            147,648\n",
       "├─Dropout: 1-2                                --\n",
       "├─ModuleList: 1-3                             --\n",
       "│    └─Block: 2-2                             --\n",
       "│    │    └─LayerNorm: 3-1                    (384)\n",
       "│    │    └─Attention: 3-2                    (148,224)\n",
       "│    │    └─Identity: 3-3                     --\n",
       "│    │    └─Identity: 3-4                     --\n",
       "│    │    └─LayerNorm: 3-5                    (384)\n",
       "│    │    └─Mlp: 3-6                          (295,872)\n",
       "│    │    └─Identity: 3-7                     --\n",
       "│    │    └─Identity: 3-8                     --\n",
       "│    └─Block: 2-3                             --\n",
       "│    │    └─LayerNorm: 3-9                    (384)\n",
       "│    │    └─Attention: 3-10                   (148,224)\n",
       "│    │    └─Identity: 3-11                    --\n",
       "│    │    └─Identity: 3-12                    --\n",
       "│    │    └─LayerNorm: 3-13                   (384)\n",
       "│    │    └─Mlp: 3-14                         (295,872)\n",
       "│    │    └─Identity: 3-15                    --\n",
       "│    │    └─Identity: 3-16                    --\n",
       "│    └─Block: 2-4                             --\n",
       "│    │    └─LayerNorm: 3-17                   384\n",
       "│    │    └─Attention: 3-18                   148,224\n",
       "│    │    └─Identity: 3-19                    --\n",
       "│    │    └─Identity: 3-20                    --\n",
       "│    │    └─LayerNorm: 3-21                   384\n",
       "│    │    └─Mlp: 3-22                         295,872\n",
       "│    │    └─Identity: 3-23                    --\n",
       "│    │    └─Identity: 3-24                    --\n",
       "│    └─Block: 2-5                             --\n",
       "│    │    └─LayerNorm: 3-25                   384\n",
       "│    │    └─Attention: 3-26                   148,224\n",
       "│    │    └─Identity: 3-27                    --\n",
       "│    │    └─Identity: 3-28                    --\n",
       "│    │    └─LayerNorm: 3-29                   384\n",
       "│    │    └─Mlp: 3-30                         295,872\n",
       "│    │    └─Identity: 3-31                    --\n",
       "│    │    └─Identity: 3-32                    --\n",
       "│    └─Block: 2-6                             --\n",
       "│    │    └─LayerNorm: 3-33                   384\n",
       "│    │    └─Attention: 3-34                   148,224\n",
       "│    │    └─Identity: 3-35                    --\n",
       "│    │    └─Identity: 3-36                    --\n",
       "│    │    └─LayerNorm: 3-37                   384\n",
       "│    │    └─Mlp: 3-38                         295,872\n",
       "│    │    └─Identity: 3-39                    --\n",
       "│    │    └─Identity: 3-40                    --\n",
       "│    └─Block: 2-7                             --\n",
       "│    │    └─LayerNorm: 3-41                   384\n",
       "│    │    └─Attention: 3-42                   148,224\n",
       "│    │    └─Identity: 3-43                    --\n",
       "│    │    └─Identity: 3-44                    --\n",
       "│    │    └─LayerNorm: 3-45                   384\n",
       "│    │    └─Mlp: 3-46                         295,872\n",
       "│    │    └─Identity: 3-47                    --\n",
       "│    │    └─Identity: 3-48                    --\n",
       "│    └─TransformerBlock: 2-8                  --\n",
       "│    │    └─MultiHeadSelfAttention: 3-49      148,224\n",
       "│    │    └─LayerNorm: 3-50                   384\n",
       "│    │    └─Sequential: 3-51                  369,792\n",
       "│    │    └─LayerNorm: 3-52                   384\n",
       "│    └─TransformerBlock: 2-9                  --\n",
       "│    │    └─MultiHeadSelfAttention: 3-53      148,224\n",
       "│    │    └─LayerNorm: 3-54                   384\n",
       "│    │    └─Sequential: 3-55                  369,792\n",
       "│    │    └─LayerNorm: 3-56                   384\n",
       "├─LayerNorm: 1-4                              384\n",
       "├─Linear: 1-5                                 49,408\n",
       "├─LayerNorm: 1-6                              512\n",
       "├─Linear: 1-7                                 1,799\n",
       "======================================================================\n",
       "Total params: 3,944,519\n",
       "Trainable params: 3,054,791\n",
       "Non-trainable params: 889,728\n",
       "======================================================================"
      ]
     },
     "execution_count": 23,
     "metadata": {},
     "output_type": "execute_result"
    }
   ],
   "source": [
    "summary(model, input_shape= (128, 3, 224, 224))"
   ]
  },
  {
   "cell_type": "code",
   "execution_count": 24,
   "id": "b0774af2-9961-4aea-96c9-323e9db8da65",
   "metadata": {},
   "outputs": [],
   "source": [
    "\n",
    "save_dir = \"saved_models\"\n",
    "os.makedirs(save_dir, exist_ok=True)\n",
    "\n",
    "# Log details\n",
    "log_file = os.path.join(save_dir, \"training_log21.txt\")\n"
   ]
  },
  {
   "cell_type": "code",
   "execution_count": 25,
   "id": "3a2738a6-4797-4a31-899e-aa30f304d142",
   "metadata": {},
   "outputs": [],
   "source": [
    "def mixup_data(x, y, alpha=0.5):\n",
    "    if alpha > 0:\n",
    "        lam = np.random.beta(alpha, alpha)\n",
    "    else:\n",
    "        lam = 0.5\n",
    "    batch_size = x.size(0)\n",
    "    index = torch.randperm(batch_size).to(x.device)\n",
    "    mixed_x = lam * x + (1 - lam) * x[index, :]\n",
    "    y_a, y_b = y, y[index]\n",
    "    return mixed_x, y_a, y_b, lam\n",
    "\n",
    "\n",
    "def mixup_criterion(criterion, pred, y_a, y_b, lam):\n",
    "    return lam * criterion(pred, y_a) + (1 - lam) * criterion(pred, y_b)\n",
    "\n",
    "use_mixup = True"
   ]
  },
  {
   "cell_type": "code",
   "execution_count": 26,
   "id": "f3862d35-1a99-4f5a-9ed2-ddcb0659446b",
   "metadata": {},
   "outputs": [],
   "source": [
    "model.to(device)\n",
    "\n",
    "criterion = nn.CrossEntropyLoss()\n",
    "optimizer = optim.AdamW(model.parameters(), lr=1e-3, weight_decay=1e-3)\n",
    "num_epochs = 200\n",
    "scheduler = CosineLRScheduler(\n",
    "    optimizer, t_initial=num_epochs, lr_min=1e-6, warmup_t=5, warmup_lr_init=1e-6\n",
    ")"
   ]
  },
  {
   "cell_type": "code",
   "execution_count": 27,
   "id": "fe2455fc-6a84-4595-ae6c-e18c6881f440",
   "metadata": {
    "scrolled": true
   },
   "outputs": [
    {
     "name": "stderr",
     "output_type": "stream",
     "text": [
      "                                                            \r"
     ]
    },
    {
     "name": "stdout",
     "output_type": "stream",
     "text": [
      "Epoch 1/200, Train Loss: 1.9983, Train Acc: 0.1296, Val Loss: 1.9591, Val Acc: 0.1259\n"
     ]
    },
    {
     "name": "stderr",
     "output_type": "stream",
     "text": [
      "                                                            \r"
     ]
    },
    {
     "name": "stdout",
     "output_type": "stream",
     "text": [
      "Epoch 2/200, Train Loss: 1.9695, Train Acc: 0.1480, Val Loss: 1.9229, Val Acc: 0.1616\n"
     ]
    },
    {
     "name": "stderr",
     "output_type": "stream",
     "text": [
      "                                                            \r"
     ]
    },
    {
     "name": "stdout",
     "output_type": "stream",
     "text": [
      "Epoch 3/200, Train Loss: 1.9227, Train Acc: 0.1927, Val Loss: 1.8453, Val Acc: 0.2551\n"
     ]
    },
    {
     "name": "stderr",
     "output_type": "stream",
     "text": [
      "                                                            \r"
     ]
    },
    {
     "name": "stdout",
     "output_type": "stream",
     "text": [
      "Epoch 4/200, Train Loss: 1.8858, Train Acc: 0.2073, Val Loss: 1.8510, Val Acc: 0.2347\n"
     ]
    },
    {
     "name": "stderr",
     "output_type": "stream",
     "text": [
      "                                                            \r"
     ]
    },
    {
     "name": "stdout",
     "output_type": "stream",
     "text": [
      "Epoch 5/200, Train Loss: 1.8397, Train Acc: 0.2149, Val Loss: 1.6806, Val Acc: 0.3401\n"
     ]
    },
    {
     "name": "stderr",
     "output_type": "stream",
     "text": [
      "                                                            \r"
     ]
    },
    {
     "name": "stdout",
     "output_type": "stream",
     "text": [
      "Epoch 6/200, Train Loss: 1.8028, Train Acc: 0.2318, Val Loss: 1.8450, Val Acc: 0.2840\n"
     ]
    },
    {
     "name": "stderr",
     "output_type": "stream",
     "text": [
      "                                                            \r"
     ]
    },
    {
     "name": "stdout",
     "output_type": "stream",
     "text": [
      "Epoch 7/200, Train Loss: 1.8241, Train Acc: 0.2141, Val Loss: 1.7491, Val Acc: 0.2738\n"
     ]
    },
    {
     "name": "stderr",
     "output_type": "stream",
     "text": [
      "                                                            \r"
     ]
    },
    {
     "name": "stdout",
     "output_type": "stream",
     "text": [
      "Epoch 8/200, Train Loss: 1.7565, Train Acc: 0.2363, Val Loss: 1.6388, Val Acc: 0.3367\n"
     ]
    },
    {
     "name": "stderr",
     "output_type": "stream",
     "text": [
      "                                                            \r"
     ]
    },
    {
     "name": "stdout",
     "output_type": "stream",
     "text": [
      "Epoch 9/200, Train Loss: 1.7291, Train Acc: 0.2569, Val Loss: 1.6319, Val Acc: 0.3486\n"
     ]
    },
    {
     "name": "stderr",
     "output_type": "stream",
     "text": [
      "                                                             \r"
     ]
    },
    {
     "name": "stdout",
     "output_type": "stream",
     "text": [
      "Epoch 10/200, Train Loss: 1.7021, Train Acc: 0.2643, Val Loss: 1.4989, Val Acc: 0.3997\n"
     ]
    },
    {
     "name": "stderr",
     "output_type": "stream",
     "text": [
      "                                                             \r"
     ]
    },
    {
     "name": "stdout",
     "output_type": "stream",
     "text": [
      "Epoch 11/200, Train Loss: 1.6690, Train Acc: 0.2380, Val Loss: 1.5553, Val Acc: 0.3878\n"
     ]
    },
    {
     "name": "stderr",
     "output_type": "stream",
     "text": [
      "                                                             \r"
     ]
    },
    {
     "name": "stdout",
     "output_type": "stream",
     "text": [
      "Epoch 12/200, Train Loss: 1.6372, Train Acc: 0.3210, Val Loss: 1.4963, Val Acc: 0.4014\n"
     ]
    },
    {
     "name": "stderr",
     "output_type": "stream",
     "text": [
      "                                                             \r"
     ]
    },
    {
     "name": "stdout",
     "output_type": "stream",
     "text": [
      "Epoch 13/200, Train Loss: 1.6553, Train Acc: 0.2943, Val Loss: 1.5377, Val Acc: 0.4320\n"
     ]
    },
    {
     "name": "stderr",
     "output_type": "stream",
     "text": [
      "                                                             \r"
     ]
    },
    {
     "name": "stdout",
     "output_type": "stream",
     "text": [
      "Epoch 14/200, Train Loss: 1.6185, Train Acc: 0.2602, Val Loss: 1.4527, Val Acc: 0.4439\n"
     ]
    },
    {
     "name": "stderr",
     "output_type": "stream",
     "text": [
      "                                                             \r"
     ]
    },
    {
     "name": "stdout",
     "output_type": "stream",
     "text": [
      "Epoch 15/200, Train Loss: 1.5786, Train Acc: 0.3057, Val Loss: 1.3970, Val Acc: 0.4473\n"
     ]
    },
    {
     "name": "stderr",
     "output_type": "stream",
     "text": [
      "                                                             \r"
     ]
    },
    {
     "name": "stdout",
     "output_type": "stream",
     "text": [
      "Epoch 16/200, Train Loss: 1.6528, Train Acc: 0.2957, Val Loss: 1.3971, Val Acc: 0.4796\n"
     ]
    },
    {
     "name": "stderr",
     "output_type": "stream",
     "text": [
      "                                                             \r"
     ]
    },
    {
     "name": "stdout",
     "output_type": "stream",
     "text": [
      "Epoch 17/200, Train Loss: 1.5689, Train Acc: 0.3392, Val Loss: 1.4435, Val Acc: 0.4337\n"
     ]
    },
    {
     "name": "stderr",
     "output_type": "stream",
     "text": [
      "                                                             \r"
     ]
    },
    {
     "name": "stdout",
     "output_type": "stream",
     "text": [
      "Epoch 18/200, Train Loss: 1.5796, Train Acc: 0.3284, Val Loss: 1.4491, Val Acc: 0.4558\n"
     ]
    },
    {
     "name": "stderr",
     "output_type": "stream",
     "text": [
      "                                                             \r"
     ]
    },
    {
     "name": "stdout",
     "output_type": "stream",
     "text": [
      "Epoch 19/200, Train Loss: 1.5717, Train Acc: 0.2851, Val Loss: 1.4061, Val Acc: 0.4388\n"
     ]
    },
    {
     "name": "stderr",
     "output_type": "stream",
     "text": [
      "                                                             \r"
     ]
    },
    {
     "name": "stdout",
     "output_type": "stream",
     "text": [
      "Epoch 20/200, Train Loss: 1.5481, Train Acc: 0.3329, Val Loss: 1.3440, Val Acc: 0.5034\n"
     ]
    },
    {
     "name": "stderr",
     "output_type": "stream",
     "text": [
      "                                                             \r"
     ]
    },
    {
     "name": "stdout",
     "output_type": "stream",
     "text": [
      "Epoch 21/200, Train Loss: 1.5140, Train Acc: 0.3429, Val Loss: 1.3690, Val Acc: 0.4507\n"
     ]
    },
    {
     "name": "stderr",
     "output_type": "stream",
     "text": [
      "                                                             \r"
     ]
    },
    {
     "name": "stdout",
     "output_type": "stream",
     "text": [
      "Epoch 22/200, Train Loss: 1.4765, Train Acc: 0.3547, Val Loss: 1.3320, Val Acc: 0.4898\n"
     ]
    },
    {
     "name": "stderr",
     "output_type": "stream",
     "text": [
      "                                                             \r"
     ]
    },
    {
     "name": "stdout",
     "output_type": "stream",
     "text": [
      "Epoch 23/200, Train Loss: 1.4733, Train Acc: 0.3280, Val Loss: 1.2969, Val Acc: 0.4983\n"
     ]
    },
    {
     "name": "stderr",
     "output_type": "stream",
     "text": [
      "                                                             \r"
     ]
    },
    {
     "name": "stdout",
     "output_type": "stream",
     "text": [
      "Epoch 24/200, Train Loss: 1.4996, Train Acc: 0.2776, Val Loss: 1.2887, Val Acc: 0.5272\n"
     ]
    },
    {
     "name": "stderr",
     "output_type": "stream",
     "text": [
      "                                                             \r"
     ]
    },
    {
     "name": "stdout",
     "output_type": "stream",
     "text": [
      "Epoch 25/200, Train Loss: 1.4683, Train Acc: 0.3347, Val Loss: 1.2598, Val Acc: 0.5493\n"
     ]
    },
    {
     "name": "stderr",
     "output_type": "stream",
     "text": [
      "                                                             \r"
     ]
    },
    {
     "name": "stdout",
     "output_type": "stream",
     "text": [
      "Epoch 26/200, Train Loss: 1.4566, Train Acc: 0.3241, Val Loss: 1.2411, Val Acc: 0.5255\n"
     ]
    },
    {
     "name": "stderr",
     "output_type": "stream",
     "text": [
      "                                                             \r"
     ]
    },
    {
     "name": "stdout",
     "output_type": "stream",
     "text": [
      "Epoch 27/200, Train Loss: 1.4535, Train Acc: 0.3263, Val Loss: 1.2223, Val Acc: 0.5408\n"
     ]
    },
    {
     "name": "stderr",
     "output_type": "stream",
     "text": [
      "                                                             \r"
     ]
    },
    {
     "name": "stdout",
     "output_type": "stream",
     "text": [
      "Epoch 28/200, Train Loss: 1.4377, Train Acc: 0.3612, Val Loss: 1.2214, Val Acc: 0.5442\n"
     ]
    },
    {
     "name": "stderr",
     "output_type": "stream",
     "text": [
      "                                                             \r"
     ]
    },
    {
     "name": "stdout",
     "output_type": "stream",
     "text": [
      "Epoch 29/200, Train Loss: 1.4048, Train Acc: 0.3200, Val Loss: 1.2490, Val Acc: 0.5306\n"
     ]
    },
    {
     "name": "stderr",
     "output_type": "stream",
     "text": [
      "                                                             \r"
     ]
    },
    {
     "name": "stdout",
     "output_type": "stream",
     "text": [
      "Epoch 30/200, Train Loss: 1.4014, Train Acc: 0.3416, Val Loss: 1.2100, Val Acc: 0.5782\n"
     ]
    },
    {
     "name": "stderr",
     "output_type": "stream",
     "text": [
      "                                                             \r"
     ]
    },
    {
     "name": "stdout",
     "output_type": "stream",
     "text": [
      "Epoch 31/200, Train Loss: 1.4001, Train Acc: 0.3676, Val Loss: 1.2818, Val Acc: 0.5272\n"
     ]
    },
    {
     "name": "stderr",
     "output_type": "stream",
     "text": [
      "                                                             \r"
     ]
    },
    {
     "name": "stdout",
     "output_type": "stream",
     "text": [
      "Epoch 32/200, Train Loss: 1.3317, Train Acc: 0.4378, Val Loss: 1.1463, Val Acc: 0.5782\n"
     ]
    },
    {
     "name": "stderr",
     "output_type": "stream",
     "text": [
      "                                                             \r"
     ]
    },
    {
     "name": "stdout",
     "output_type": "stream",
     "text": [
      "Epoch 33/200, Train Loss: 1.4739, Train Acc: 0.4043, Val Loss: 1.2480, Val Acc: 0.5510\n"
     ]
    },
    {
     "name": "stderr",
     "output_type": "stream",
     "text": [
      "                                                             \r"
     ]
    },
    {
     "name": "stdout",
     "output_type": "stream",
     "text": [
      "Epoch 34/200, Train Loss: 1.3181, Train Acc: 0.4041, Val Loss: 1.1577, Val Acc: 0.5935\n"
     ]
    },
    {
     "name": "stderr",
     "output_type": "stream",
     "text": [
      "                                                             \r"
     ]
    },
    {
     "name": "stdout",
     "output_type": "stream",
     "text": [
      "Epoch 35/200, Train Loss: 1.3693, Train Acc: 0.3661, Val Loss: 1.2802, Val Acc: 0.5255\n"
     ]
    },
    {
     "name": "stderr",
     "output_type": "stream",
     "text": [
      "                                                             \r"
     ]
    },
    {
     "name": "stdout",
     "output_type": "stream",
     "text": [
      "Epoch 36/200, Train Loss: 1.3257, Train Acc: 0.3584, Val Loss: 1.1727, Val Acc: 0.5697\n"
     ]
    },
    {
     "name": "stderr",
     "output_type": "stream",
     "text": [
      "                                                             \r"
     ]
    },
    {
     "name": "stdout",
     "output_type": "stream",
     "text": [
      "Epoch 37/200, Train Loss: 1.3799, Train Acc: 0.3476, Val Loss: 1.1742, Val Acc: 0.5782\n"
     ]
    },
    {
     "name": "stderr",
     "output_type": "stream",
     "text": [
      "                                                             \r"
     ]
    },
    {
     "name": "stdout",
     "output_type": "stream",
     "text": [
      "Epoch 38/200, Train Loss: 1.4322, Train Acc: 0.3310, Val Loss: 1.1639, Val Acc: 0.5714\n"
     ]
    },
    {
     "name": "stderr",
     "output_type": "stream",
     "text": [
      "                                                             \r"
     ]
    },
    {
     "name": "stdout",
     "output_type": "stream",
     "text": [
      "Epoch 39/200, Train Loss: 1.3876, Train Acc: 0.3357, Val Loss: 1.1637, Val Acc: 0.5799\n"
     ]
    },
    {
     "name": "stderr",
     "output_type": "stream",
     "text": [
      "                                                             \r"
     ]
    },
    {
     "name": "stdout",
     "output_type": "stream",
     "text": [
      "Epoch 40/200, Train Loss: 1.2976, Train Acc: 0.3941, Val Loss: 1.2046, Val Acc: 0.5561\n"
     ]
    },
    {
     "name": "stderr",
     "output_type": "stream",
     "text": [
      "                                                             \r"
     ]
    },
    {
     "name": "stdout",
     "output_type": "stream",
     "text": [
      "Epoch 41/200, Train Loss: 1.3257, Train Acc: 0.4059, Val Loss: 1.0809, Val Acc: 0.5901\n"
     ]
    },
    {
     "name": "stderr",
     "output_type": "stream",
     "text": [
      "                                                             \r"
     ]
    },
    {
     "name": "stdout",
     "output_type": "stream",
     "text": [
      "Epoch 42/200, Train Loss: 1.3024, Train Acc: 0.3445, Val Loss: 1.1138, Val Acc: 0.5918\n"
     ]
    },
    {
     "name": "stderr",
     "output_type": "stream",
     "text": [
      "                                                             \r"
     ]
    },
    {
     "name": "stdout",
     "output_type": "stream",
     "text": [
      "Epoch 43/200, Train Loss: 1.3057, Train Acc: 0.3990, Val Loss: 1.1437, Val Acc: 0.5714\n"
     ]
    },
    {
     "name": "stderr",
     "output_type": "stream",
     "text": [
      "                                                             \r"
     ]
    },
    {
     "name": "stdout",
     "output_type": "stream",
     "text": [
      "Epoch 44/200, Train Loss: 1.2551, Train Acc: 0.3331, Val Loss: 1.1062, Val Acc: 0.5969\n"
     ]
    },
    {
     "name": "stderr",
     "output_type": "stream",
     "text": [
      "                                                             \r"
     ]
    },
    {
     "name": "stdout",
     "output_type": "stream",
     "text": [
      "Epoch 45/200, Train Loss: 1.2803, Train Acc: 0.4108, Val Loss: 1.1424, Val Acc: 0.5799\n"
     ]
    },
    {
     "name": "stderr",
     "output_type": "stream",
     "text": [
      "                                                             \r"
     ]
    },
    {
     "name": "stdout",
     "output_type": "stream",
     "text": [
      "Epoch 46/200, Train Loss: 1.2208, Train Acc: 0.4435, Val Loss: 1.0612, Val Acc: 0.6190\n"
     ]
    },
    {
     "name": "stderr",
     "output_type": "stream",
     "text": [
      "                                                             \r"
     ]
    },
    {
     "name": "stdout",
     "output_type": "stream",
     "text": [
      "Epoch 47/200, Train Loss: 1.2162, Train Acc: 0.4500, Val Loss: 1.0902, Val Acc: 0.5918\n"
     ]
    },
    {
     "name": "stderr",
     "output_type": "stream",
     "text": [
      "                                                             \r"
     ]
    },
    {
     "name": "stdout",
     "output_type": "stream",
     "text": [
      "Epoch 48/200, Train Loss: 1.2144, Train Acc: 0.3398, Val Loss: 1.1124, Val Acc: 0.6276\n"
     ]
    },
    {
     "name": "stderr",
     "output_type": "stream",
     "text": [
      "                                                             \r"
     ]
    },
    {
     "name": "stdout",
     "output_type": "stream",
     "text": [
      "Epoch 49/200, Train Loss: 1.2362, Train Acc: 0.4055, Val Loss: 1.0609, Val Acc: 0.6259\n"
     ]
    },
    {
     "name": "stderr",
     "output_type": "stream",
     "text": [
      "                                                             \r"
     ]
    },
    {
     "name": "stdout",
     "output_type": "stream",
     "text": [
      "Epoch 50/200, Train Loss: 1.1130, Train Acc: 0.3553, Val Loss: 1.1486, Val Acc: 0.6071\n"
     ]
    },
    {
     "name": "stderr",
     "output_type": "stream",
     "text": [
      "                                                             \r"
     ]
    },
    {
     "name": "stdout",
     "output_type": "stream",
     "text": [
      "Epoch 51/200, Train Loss: 1.2447, Train Acc: 0.4112, Val Loss: 1.0675, Val Acc: 0.6105\n"
     ]
    },
    {
     "name": "stderr",
     "output_type": "stream",
     "text": [
      "                                                             \r"
     ]
    },
    {
     "name": "stdout",
     "output_type": "stream",
     "text": [
      "Epoch 52/200, Train Loss: 1.2514, Train Acc: 0.4155, Val Loss: 1.1198, Val Acc: 0.5867\n"
     ]
    },
    {
     "name": "stderr",
     "output_type": "stream",
     "text": [
      "                                                             \r"
     ]
    },
    {
     "name": "stdout",
     "output_type": "stream",
     "text": [
      "Epoch 53/200, Train Loss: 1.2255, Train Acc: 0.3961, Val Loss: 1.0354, Val Acc: 0.6276\n"
     ]
    },
    {
     "name": "stderr",
     "output_type": "stream",
     "text": [
      "                                                             \r"
     ]
    },
    {
     "name": "stdout",
     "output_type": "stream",
     "text": [
      "Epoch 54/200, Train Loss: 1.2566, Train Acc: 0.3945, Val Loss: 1.1297, Val Acc: 0.5969\n"
     ]
    },
    {
     "name": "stderr",
     "output_type": "stream",
     "text": [
      "                                                             \r"
     ]
    },
    {
     "name": "stdout",
     "output_type": "stream",
     "text": [
      "Epoch 55/200, Train Loss: 1.1143, Train Acc: 0.3778, Val Loss: 1.3189, Val Acc: 0.5680\n"
     ]
    },
    {
     "name": "stderr",
     "output_type": "stream",
     "text": [
      "                                                             \r"
     ]
    },
    {
     "name": "stdout",
     "output_type": "stream",
     "text": [
      "Epoch 56/200, Train Loss: 1.1791, Train Acc: 0.5096, Val Loss: 1.1226, Val Acc: 0.5850\n"
     ]
    },
    {
     "name": "stderr",
     "output_type": "stream",
     "text": [
      "                                                             \r"
     ]
    },
    {
     "name": "stdout",
     "output_type": "stream",
     "text": [
      "Epoch 57/200, Train Loss: 1.2811, Train Acc: 0.4033, Val Loss: 1.0568, Val Acc: 0.6463\n"
     ]
    },
    {
     "name": "stderr",
     "output_type": "stream",
     "text": [
      "                                                             \r"
     ]
    },
    {
     "name": "stdout",
     "output_type": "stream",
     "text": [
      "Epoch 58/200, Train Loss: 1.1800, Train Acc: 0.4504, Val Loss: 1.0822, Val Acc: 0.6207\n"
     ]
    },
    {
     "name": "stderr",
     "output_type": "stream",
     "text": [
      "                                                             \r"
     ]
    },
    {
     "name": "stdout",
     "output_type": "stream",
     "text": [
      "Epoch 59/200, Train Loss: 1.2819, Train Acc: 0.3663, Val Loss: 1.1299, Val Acc: 0.5952\n"
     ]
    },
    {
     "name": "stderr",
     "output_type": "stream",
     "text": [
      "                                                             \r"
     ]
    },
    {
     "name": "stdout",
     "output_type": "stream",
     "text": [
      "Epoch 60/200, Train Loss: 1.2010, Train Acc: 0.5206, Val Loss: 1.0827, Val Acc: 0.6054\n"
     ]
    },
    {
     "name": "stderr",
     "output_type": "stream",
     "text": [
      "                                                             \r"
     ]
    },
    {
     "name": "stdout",
     "output_type": "stream",
     "text": [
      "Epoch 61/200, Train Loss: 1.1385, Train Acc: 0.4861, Val Loss: 1.0591, Val Acc: 0.6361\n"
     ]
    },
    {
     "name": "stderr",
     "output_type": "stream",
     "text": [
      "                                                             \r"
     ]
    },
    {
     "name": "stdout",
     "output_type": "stream",
     "text": [
      "Epoch 62/200, Train Loss: 1.1847, Train Acc: 0.4300, Val Loss: 1.0809, Val Acc: 0.6190\n"
     ]
    },
    {
     "name": "stderr",
     "output_type": "stream",
     "text": [
      "                                                             \r"
     ]
    },
    {
     "name": "stdout",
     "output_type": "stream",
     "text": [
      "Epoch 63/200, Train Loss: 1.1144, Train Acc: 0.5145, Val Loss: 1.1398, Val Acc: 0.6293\n"
     ]
    },
    {
     "name": "stderr",
     "output_type": "stream",
     "text": [
      "                                                             \r"
     ]
    },
    {
     "name": "stdout",
     "output_type": "stream",
     "text": [
      "Epoch 64/200, Train Loss: 1.0385, Train Acc: 0.3696, Val Loss: 1.0958, Val Acc: 0.6378\n"
     ]
    },
    {
     "name": "stderr",
     "output_type": "stream",
     "text": [
      "                                                             \r"
     ]
    },
    {
     "name": "stdout",
     "output_type": "stream",
     "text": [
      "Epoch 65/200, Train Loss: 1.1015, Train Acc: 0.4594, Val Loss: 1.0308, Val Acc: 0.6327\n"
     ]
    },
    {
     "name": "stderr",
     "output_type": "stream",
     "text": [
      "                                                             \r"
     ]
    },
    {
     "name": "stdout",
     "output_type": "stream",
     "text": [
      "Epoch 66/200, Train Loss: 1.1846, Train Acc: 0.4680, Val Loss: 1.0882, Val Acc: 0.6241\n"
     ]
    },
    {
     "name": "stderr",
     "output_type": "stream",
     "text": [
      "                                                             \r"
     ]
    },
    {
     "name": "stdout",
     "output_type": "stream",
     "text": [
      "Epoch 67/200, Train Loss: 1.0785, Train Acc: 0.4816, Val Loss: 1.0260, Val Acc: 0.6276\n"
     ]
    },
    {
     "name": "stderr",
     "output_type": "stream",
     "text": [
      "                                                             \r"
     ]
    },
    {
     "name": "stdout",
     "output_type": "stream",
     "text": [
      "Epoch 68/200, Train Loss: 1.1032, Train Acc: 0.4212, Val Loss: 1.0543, Val Acc: 0.6224\n"
     ]
    },
    {
     "name": "stderr",
     "output_type": "stream",
     "text": [
      "                                                             \r"
     ]
    },
    {
     "name": "stdout",
     "output_type": "stream",
     "text": [
      "Epoch 69/200, Train Loss: 1.0255, Train Acc: 0.4745, Val Loss: 1.1057, Val Acc: 0.6224\n"
     ]
    },
    {
     "name": "stderr",
     "output_type": "stream",
     "text": [
      "                                                             \r"
     ]
    },
    {
     "name": "stdout",
     "output_type": "stream",
     "text": [
      "Epoch 70/200, Train Loss: 1.0698, Train Acc: 0.3918, Val Loss: 1.1040, Val Acc: 0.6344\n"
     ]
    },
    {
     "name": "stderr",
     "output_type": "stream",
     "text": [
      "                                                             \r"
     ]
    },
    {
     "name": "stdout",
     "output_type": "stream",
     "text": [
      "Epoch 71/200, Train Loss: 1.0912, Train Acc: 0.4990, Val Loss: 1.1983, Val Acc: 0.5731\n"
     ]
    },
    {
     "name": "stderr",
     "output_type": "stream",
     "text": [
      "                                                             \r"
     ]
    },
    {
     "name": "stdout",
     "output_type": "stream",
     "text": [
      "Epoch 72/200, Train Loss: 1.1072, Train Acc: 0.4520, Val Loss: 1.1080, Val Acc: 0.6105\n"
     ]
    },
    {
     "name": "stderr",
     "output_type": "stream",
     "text": [
      "                                                             \r"
     ]
    },
    {
     "name": "stdout",
     "output_type": "stream",
     "text": [
      "Epoch 73/200, Train Loss: 0.9964, Train Acc: 0.4508, Val Loss: 1.1064, Val Acc: 0.6429\n"
     ]
    },
    {
     "name": "stderr",
     "output_type": "stream",
     "text": [
      "                                                             \r"
     ]
    },
    {
     "name": "stdout",
     "output_type": "stream",
     "text": [
      "Epoch 74/200, Train Loss: 1.0278, Train Acc: 0.4902, Val Loss: 1.1160, Val Acc: 0.6259\n"
     ]
    },
    {
     "name": "stderr",
     "output_type": "stream",
     "text": [
      "                                                             \r"
     ]
    },
    {
     "name": "stdout",
     "output_type": "stream",
     "text": [
      "Epoch 75/200, Train Loss: 1.1423, Train Acc: 0.4467, Val Loss: 1.0484, Val Acc: 0.6599\n"
     ]
    },
    {
     "name": "stderr",
     "output_type": "stream",
     "text": [
      "                                                             \r"
     ]
    },
    {
     "name": "stdout",
     "output_type": "stream",
     "text": [
      "Epoch 76/200, Train Loss: 1.1015, Train Acc: 0.4716, Val Loss: 0.9972, Val Acc: 0.6667\n"
     ]
    },
    {
     "name": "stderr",
     "output_type": "stream",
     "text": [
      "                                                             \r"
     ]
    },
    {
     "name": "stdout",
     "output_type": "stream",
     "text": [
      "Epoch 77/200, Train Loss: 0.9547, Train Acc: 0.5300, Val Loss: 1.0607, Val Acc: 0.6361\n"
     ]
    },
    {
     "name": "stderr",
     "output_type": "stream",
     "text": [
      "                                                             \r"
     ]
    },
    {
     "name": "stdout",
     "output_type": "stream",
     "text": [
      "Epoch 78/200, Train Loss: 1.0287, Train Acc: 0.4802, Val Loss: 1.1839, Val Acc: 0.6395\n"
     ]
    },
    {
     "name": "stderr",
     "output_type": "stream",
     "text": [
      "                                                             \r"
     ]
    },
    {
     "name": "stdout",
     "output_type": "stream",
     "text": [
      "Epoch 79/200, Train Loss: 1.0646, Train Acc: 0.4108, Val Loss: 1.0305, Val Acc: 0.6769\n"
     ]
    },
    {
     "name": "stderr",
     "output_type": "stream",
     "text": [
      "                                                             \r"
     ]
    },
    {
     "name": "stdout",
     "output_type": "stream",
     "text": [
      "Epoch 80/200, Train Loss: 0.9495, Train Acc: 0.4702, Val Loss: 1.0133, Val Acc: 0.6548\n"
     ]
    },
    {
     "name": "stderr",
     "output_type": "stream",
     "text": [
      "                                                             \r"
     ]
    },
    {
     "name": "stdout",
     "output_type": "stream",
     "text": [
      "Epoch 81/200, Train Loss: 1.1555, Train Acc: 0.3910, Val Loss: 1.0805, Val Acc: 0.6548\n"
     ]
    },
    {
     "name": "stderr",
     "output_type": "stream",
     "text": [
      "                                                             \r"
     ]
    },
    {
     "name": "stdout",
     "output_type": "stream",
     "text": [
      "Epoch 82/200, Train Loss: 1.1082, Train Acc: 0.4614, Val Loss: 1.0492, Val Acc: 0.6480\n"
     ]
    },
    {
     "name": "stderr",
     "output_type": "stream",
     "text": [
      "                                                             \r"
     ]
    },
    {
     "name": "stdout",
     "output_type": "stream",
     "text": [
      "Epoch 83/200, Train Loss: 1.0703, Train Acc: 0.4041, Val Loss: 1.0013, Val Acc: 0.6480\n"
     ]
    },
    {
     "name": "stderr",
     "output_type": "stream",
     "text": [
      "                                                             \r"
     ]
    },
    {
     "name": "stdout",
     "output_type": "stream",
     "text": [
      "Epoch 84/200, Train Loss: 1.0367, Train Acc: 0.5441, Val Loss: 1.0238, Val Acc: 0.6718\n"
     ]
    },
    {
     "name": "stderr",
     "output_type": "stream",
     "text": [
      "                                                             \r"
     ]
    },
    {
     "name": "stdout",
     "output_type": "stream",
     "text": [
      "Epoch 85/200, Train Loss: 0.8718, Train Acc: 0.4320, Val Loss: 0.9997, Val Acc: 0.6616\n"
     ]
    },
    {
     "name": "stderr",
     "output_type": "stream",
     "text": [
      "                                                             \r"
     ]
    },
    {
     "name": "stdout",
     "output_type": "stream",
     "text": [
      "Epoch 86/200, Train Loss: 1.0267, Train Acc: 0.4561, Val Loss: 1.0232, Val Acc: 0.6480\n"
     ]
    },
    {
     "name": "stderr",
     "output_type": "stream",
     "text": [
      "                                                             \r"
     ]
    },
    {
     "name": "stdout",
     "output_type": "stream",
     "text": [
      "Epoch 87/200, Train Loss: 1.1168, Train Acc: 0.4735, Val Loss: 1.0070, Val Acc: 0.6820\n"
     ]
    },
    {
     "name": "stderr",
     "output_type": "stream",
     "text": [
      "                                                             \r"
     ]
    },
    {
     "name": "stdout",
     "output_type": "stream",
     "text": [
      "Epoch 88/200, Train Loss: 0.9930, Train Acc: 0.4633, Val Loss: 1.0123, Val Acc: 0.6616\n"
     ]
    },
    {
     "name": "stderr",
     "output_type": "stream",
     "text": [
      "                                                             \r"
     ]
    },
    {
     "name": "stdout",
     "output_type": "stream",
     "text": [
      "Epoch 89/200, Train Loss: 1.0017, Train Acc: 0.4180, Val Loss: 1.0343, Val Acc: 0.6633\n"
     ]
    },
    {
     "name": "stderr",
     "output_type": "stream",
     "text": [
      "                                                             \r"
     ]
    },
    {
     "name": "stdout",
     "output_type": "stream",
     "text": [
      "Epoch 90/200, Train Loss: 0.9509, Train Acc: 0.4912, Val Loss: 1.0456, Val Acc: 0.6548\n"
     ]
    },
    {
     "name": "stderr",
     "output_type": "stream",
     "text": [
      "                                                             \r"
     ]
    },
    {
     "name": "stdout",
     "output_type": "stream",
     "text": [
      "Epoch 91/200, Train Loss: 0.8999, Train Acc: 0.5886, Val Loss: 0.9739, Val Acc: 0.6854\n"
     ]
    },
    {
     "name": "stderr",
     "output_type": "stream",
     "text": [
      "                                                             \r"
     ]
    },
    {
     "name": "stdout",
     "output_type": "stream",
     "text": [
      "Epoch 92/200, Train Loss: 0.7893, Train Acc: 0.5114, Val Loss: 1.0484, Val Acc: 0.6548\n"
     ]
    },
    {
     "name": "stderr",
     "output_type": "stream",
     "text": [
      "                                                             \r"
     ]
    },
    {
     "name": "stdout",
     "output_type": "stream",
     "text": [
      "Epoch 93/200, Train Loss: 0.9238, Train Acc: 0.4376, Val Loss: 1.0966, Val Acc: 0.6344\n"
     ]
    },
    {
     "name": "stderr",
     "output_type": "stream",
     "text": [
      "                                                             \r"
     ]
    },
    {
     "name": "stdout",
     "output_type": "stream",
     "text": [
      "Epoch 94/200, Train Loss: 1.0501, Train Acc: 0.4986, Val Loss: 0.9609, Val Acc: 0.6922\n"
     ]
    },
    {
     "name": "stderr",
     "output_type": "stream",
     "text": [
      "                                                             \r"
     ]
    },
    {
     "name": "stdout",
     "output_type": "stream",
     "text": [
      "Epoch 95/200, Train Loss: 1.0276, Train Acc: 0.5296, Val Loss: 1.0218, Val Acc: 0.6718\n"
     ]
    },
    {
     "name": "stderr",
     "output_type": "stream",
     "text": [
      "                                                             \r"
     ]
    },
    {
     "name": "stdout",
     "output_type": "stream",
     "text": [
      "Epoch 96/200, Train Loss: 0.9530, Train Acc: 0.4773, Val Loss: 0.9905, Val Acc: 0.6820\n"
     ]
    },
    {
     "name": "stderr",
     "output_type": "stream",
     "text": [
      "                                                             \r"
     ]
    },
    {
     "name": "stdout",
     "output_type": "stream",
     "text": [
      "Epoch 97/200, Train Loss: 0.9198, Train Acc: 0.5624, Val Loss: 1.1285, Val Acc: 0.6173\n"
     ]
    },
    {
     "name": "stderr",
     "output_type": "stream",
     "text": [
      "                                                             \r"
     ]
    },
    {
     "name": "stdout",
     "output_type": "stream",
     "text": [
      "Epoch 98/200, Train Loss: 0.8389, Train Acc: 0.5435, Val Loss: 0.9610, Val Acc: 0.6769\n"
     ]
    },
    {
     "name": "stderr",
     "output_type": "stream",
     "text": [
      "                                                             \r"
     ]
    },
    {
     "name": "stdout",
     "output_type": "stream",
     "text": [
      "Epoch 99/200, Train Loss: 0.9682, Train Acc: 0.4833, Val Loss: 1.0901, Val Acc: 0.6548\n"
     ]
    },
    {
     "name": "stderr",
     "output_type": "stream",
     "text": [
      "                                                              \r"
     ]
    },
    {
     "name": "stdout",
     "output_type": "stream",
     "text": [
      "Epoch 100/200, Train Loss: 0.9759, Train Acc: 0.5447, Val Loss: 1.0118, Val Acc: 0.6752\n"
     ]
    },
    {
     "name": "stderr",
     "output_type": "stream",
     "text": [
      "                                                              \r"
     ]
    },
    {
     "name": "stdout",
     "output_type": "stream",
     "text": [
      "Epoch 101/200, Train Loss: 0.9614, Train Acc: 0.4045, Val Loss: 0.9838, Val Acc: 0.6769\n"
     ]
    },
    {
     "name": "stderr",
     "output_type": "stream",
     "text": [
      "                                                              \r"
     ]
    },
    {
     "name": "stdout",
     "output_type": "stream",
     "text": [
      "Epoch 102/200, Train Loss: 0.8072, Train Acc: 0.5400, Val Loss: 0.9666, Val Acc: 0.6956\n"
     ]
    },
    {
     "name": "stderr",
     "output_type": "stream",
     "text": [
      "                                                              \r"
     ]
    },
    {
     "name": "stdout",
     "output_type": "stream",
     "text": [
      "Epoch 103/200, Train Loss: 0.9032, Train Acc: 0.6159, Val Loss: 0.9875, Val Acc: 0.6752\n"
     ]
    },
    {
     "name": "stderr",
     "output_type": "stream",
     "text": [
      "                                                              \r"
     ]
    },
    {
     "name": "stdout",
     "output_type": "stream",
     "text": [
      "Epoch 104/200, Train Loss: 0.9949, Train Acc: 0.4457, Val Loss: 1.0805, Val Acc: 0.6684\n"
     ]
    },
    {
     "name": "stderr",
     "output_type": "stream",
     "text": [
      "                                                              \r"
     ]
    },
    {
     "name": "stdout",
     "output_type": "stream",
     "text": [
      "Epoch 105/200, Train Loss: 0.8478, Train Acc: 0.5788, Val Loss: 0.9919, Val Acc: 0.6888\n"
     ]
    },
    {
     "name": "stderr",
     "output_type": "stream",
     "text": [
      "                                                              \r"
     ]
    },
    {
     "name": "stdout",
     "output_type": "stream",
     "text": [
      "Epoch 106/200, Train Loss: 0.8648, Train Acc: 0.5498, Val Loss: 1.0291, Val Acc: 0.6633\n"
     ]
    },
    {
     "name": "stderr",
     "output_type": "stream",
     "text": [
      "                                                              \r"
     ]
    },
    {
     "name": "stdout",
     "output_type": "stream",
     "text": [
      "Epoch 107/200, Train Loss: 0.8959, Train Acc: 0.5122, Val Loss: 1.0361, Val Acc: 0.6633\n"
     ]
    },
    {
     "name": "stderr",
     "output_type": "stream",
     "text": [
      "                                                              \r"
     ]
    },
    {
     "name": "stdout",
     "output_type": "stream",
     "text": [
      "Epoch 108/200, Train Loss: 0.8735, Train Acc: 0.5847, Val Loss: 0.9836, Val Acc: 0.6905\n"
     ]
    },
    {
     "name": "stderr",
     "output_type": "stream",
     "text": [
      "                                                              \r"
     ]
    },
    {
     "name": "stdout",
     "output_type": "stream",
     "text": [
      "Epoch 109/200, Train Loss: 0.9172, Train Acc: 0.5316, Val Loss: 0.9701, Val Acc: 0.7058\n"
     ]
    },
    {
     "name": "stderr",
     "output_type": "stream",
     "text": [
      "                                                              \r"
     ]
    },
    {
     "name": "stdout",
     "output_type": "stream",
     "text": [
      "Epoch 110/200, Train Loss: 0.9036, Train Acc: 0.4394, Val Loss: 1.0207, Val Acc: 0.6769\n"
     ]
    },
    {
     "name": "stderr",
     "output_type": "stream",
     "text": [
      "                                                              \r"
     ]
    },
    {
     "name": "stdout",
     "output_type": "stream",
     "text": [
      "Epoch 111/200, Train Loss: 0.8940, Train Acc: 0.6235, Val Loss: 1.0235, Val Acc: 0.6854\n"
     ]
    },
    {
     "name": "stderr",
     "output_type": "stream",
     "text": [
      "                                                              \r"
     ]
    },
    {
     "name": "stdout",
     "output_type": "stream",
     "text": [
      "Epoch 112/200, Train Loss: 0.8611, Train Acc: 0.4529, Val Loss: 0.9766, Val Acc: 0.6956\n"
     ]
    },
    {
     "name": "stderr",
     "output_type": "stream",
     "text": [
      "                                                              \r"
     ]
    },
    {
     "name": "stdout",
     "output_type": "stream",
     "text": [
      "Epoch 113/200, Train Loss: 0.7755, Train Acc: 0.4329, Val Loss: 1.0426, Val Acc: 0.6667\n"
     ]
    },
    {
     "name": "stderr",
     "output_type": "stream",
     "text": [
      "                                                              \r"
     ]
    },
    {
     "name": "stdout",
     "output_type": "stream",
     "text": [
      "Epoch 114/200, Train Loss: 0.7621, Train Acc: 0.5500, Val Loss: 0.9928, Val Acc: 0.6990\n"
     ]
    },
    {
     "name": "stderr",
     "output_type": "stream",
     "text": [
      "                                                              \r"
     ]
    },
    {
     "name": "stdout",
     "output_type": "stream",
     "text": [
      "Epoch 115/200, Train Loss: 0.8150, Train Acc: 0.4563, Val Loss: 1.0027, Val Acc: 0.6990\n"
     ]
    },
    {
     "name": "stderr",
     "output_type": "stream",
     "text": [
      "                                                              \r"
     ]
    },
    {
     "name": "stdout",
     "output_type": "stream",
     "text": [
      "Epoch 116/200, Train Loss: 0.9170, Train Acc: 0.5602, Val Loss: 1.0402, Val Acc: 0.6701\n"
     ]
    },
    {
     "name": "stderr",
     "output_type": "stream",
     "text": [
      "                                                              \r"
     ]
    },
    {
     "name": "stdout",
     "output_type": "stream",
     "text": [
      "Epoch 117/200, Train Loss: 0.9803, Train Acc: 0.4873, Val Loss: 0.9644, Val Acc: 0.7092\n"
     ]
    },
    {
     "name": "stderr",
     "output_type": "stream",
     "text": [
      "                                                              \r"
     ]
    },
    {
     "name": "stdout",
     "output_type": "stream",
     "text": [
      "Epoch 118/200, Train Loss: 0.8692, Train Acc: 0.5433, Val Loss: 0.9982, Val Acc: 0.6820\n"
     ]
    },
    {
     "name": "stderr",
     "output_type": "stream",
     "text": [
      "                                                              \r"
     ]
    },
    {
     "name": "stdout",
     "output_type": "stream",
     "text": [
      "Epoch 119/200, Train Loss: 0.6918, Train Acc: 0.6257, Val Loss: 1.0232, Val Acc: 0.6956\n"
     ]
    },
    {
     "name": "stderr",
     "output_type": "stream",
     "text": [
      "                                                              \r"
     ]
    },
    {
     "name": "stdout",
     "output_type": "stream",
     "text": [
      "Epoch 120/200, Train Loss: 0.8186, Train Acc: 0.6324, Val Loss: 1.0011, Val Acc: 0.6854\n"
     ]
    },
    {
     "name": "stderr",
     "output_type": "stream",
     "text": [
      "                                                              \r"
     ]
    },
    {
     "name": "stdout",
     "output_type": "stream",
     "text": [
      "Epoch 121/200, Train Loss: 0.6947, Train Acc: 0.5563, Val Loss: 1.0195, Val Acc: 0.6837\n"
     ]
    },
    {
     "name": "stderr",
     "output_type": "stream",
     "text": [
      "                                                              \r"
     ]
    },
    {
     "name": "stdout",
     "output_type": "stream",
     "text": [
      "Epoch 122/200, Train Loss: 0.9543, Train Acc: 0.5259, Val Loss: 1.0237, Val Acc: 0.6990\n"
     ]
    },
    {
     "name": "stderr",
     "output_type": "stream",
     "text": [
      "                                                              \r"
     ]
    },
    {
     "name": "stdout",
     "output_type": "stream",
     "text": [
      "Epoch 123/200, Train Loss: 0.8486, Train Acc: 0.6200, Val Loss: 1.0040, Val Acc: 0.7007\n"
     ]
    },
    {
     "name": "stderr",
     "output_type": "stream",
     "text": [
      "                                                              \r"
     ]
    },
    {
     "name": "stdout",
     "output_type": "stream",
     "text": [
      "Epoch 124/200, Train Loss: 0.7083, Train Acc: 0.5886, Val Loss: 0.9701, Val Acc: 0.7279\n"
     ]
    },
    {
     "name": "stderr",
     "output_type": "stream",
     "text": [
      "                                                              \r"
     ]
    },
    {
     "name": "stdout",
     "output_type": "stream",
     "text": [
      "Epoch 125/200, Train Loss: 0.8320, Train Acc: 0.5573, Val Loss: 1.0020, Val Acc: 0.7075\n"
     ]
    },
    {
     "name": "stderr",
     "output_type": "stream",
     "text": [
      "                                                              \r"
     ]
    },
    {
     "name": "stdout",
     "output_type": "stream",
     "text": [
      "Epoch 126/200, Train Loss: 0.8001, Train Acc: 0.5676, Val Loss: 1.0058, Val Acc: 0.6820\n"
     ]
    },
    {
     "name": "stderr",
     "output_type": "stream",
     "text": [
      "                                                              \r"
     ]
    },
    {
     "name": "stdout",
     "output_type": "stream",
     "text": [
      "Epoch 127/200, Train Loss: 0.8713, Train Acc: 0.4631, Val Loss: 0.9648, Val Acc: 0.7041\n"
     ]
    },
    {
     "name": "stderr",
     "output_type": "stream",
     "text": [
      "                                                              \r"
     ]
    },
    {
     "name": "stdout",
     "output_type": "stream",
     "text": [
      "Epoch 128/200, Train Loss: 0.7339, Train Acc: 0.5986, Val Loss: 1.0331, Val Acc: 0.6990\n"
     ]
    },
    {
     "name": "stderr",
     "output_type": "stream",
     "text": [
      "                                                              \r"
     ]
    },
    {
     "name": "stdout",
     "output_type": "stream",
     "text": [
      "Epoch 129/200, Train Loss: 0.8062, Train Acc: 0.5420, Val Loss: 1.0211, Val Acc: 0.6871\n"
     ]
    },
    {
     "name": "stderr",
     "output_type": "stream",
     "text": [
      "                                                              \r"
     ]
    },
    {
     "name": "stdout",
     "output_type": "stream",
     "text": [
      "Epoch 130/200, Train Loss: 0.7193, Train Acc: 0.5057, Val Loss: 0.9056, Val Acc: 0.7449\n"
     ]
    },
    {
     "name": "stderr",
     "output_type": "stream",
     "text": [
      "                                                              \r"
     ]
    },
    {
     "name": "stdout",
     "output_type": "stream",
     "text": [
      "Epoch 131/200, Train Loss: 0.7871, Train Acc: 0.5010, Val Loss: 0.9600, Val Acc: 0.7041\n"
     ]
    },
    {
     "name": "stderr",
     "output_type": "stream",
     "text": [
      "                                                              \r"
     ]
    },
    {
     "name": "stdout",
     "output_type": "stream",
     "text": [
      "Epoch 132/200, Train Loss: 0.8118, Train Acc: 0.5688, Val Loss: 0.9672, Val Acc: 0.7058\n"
     ]
    },
    {
     "name": "stderr",
     "output_type": "stream",
     "text": [
      "                                                              \r"
     ]
    },
    {
     "name": "stdout",
     "output_type": "stream",
     "text": [
      "Epoch 133/200, Train Loss: 0.8538, Train Acc: 0.5745, Val Loss: 0.9887, Val Acc: 0.7058\n"
     ]
    },
    {
     "name": "stderr",
     "output_type": "stream",
     "text": [
      "                                                              \r"
     ]
    },
    {
     "name": "stdout",
     "output_type": "stream",
     "text": [
      "Epoch 134/200, Train Loss: 0.8233, Train Acc: 0.6400, Val Loss: 0.9510, Val Acc: 0.7058\n"
     ]
    },
    {
     "name": "stderr",
     "output_type": "stream",
     "text": [
      "                                                              \r"
     ]
    },
    {
     "name": "stdout",
     "output_type": "stream",
     "text": [
      "Epoch 135/200, Train Loss: 0.8087, Train Acc: 0.5808, Val Loss: 0.9794, Val Acc: 0.7041\n"
     ]
    },
    {
     "name": "stderr",
     "output_type": "stream",
     "text": [
      "                                                              \r"
     ]
    },
    {
     "name": "stdout",
     "output_type": "stream",
     "text": [
      "Epoch 136/200, Train Loss: 0.6381, Train Acc: 0.6041, Val Loss: 0.9545, Val Acc: 0.7041\n"
     ]
    },
    {
     "name": "stderr",
     "output_type": "stream",
     "text": [
      "                                                              \r"
     ]
    },
    {
     "name": "stdout",
     "output_type": "stream",
     "text": [
      "Epoch 137/200, Train Loss: 0.7798, Train Acc: 0.6388, Val Loss: 0.9542, Val Acc: 0.7058\n"
     ]
    },
    {
     "name": "stderr",
     "output_type": "stream",
     "text": [
      "                                                              \r"
     ]
    },
    {
     "name": "stdout",
     "output_type": "stream",
     "text": [
      "Epoch 138/200, Train Loss: 0.8820, Train Acc: 0.4959, Val Loss: 0.9263, Val Acc: 0.7177\n"
     ]
    },
    {
     "name": "stderr",
     "output_type": "stream",
     "text": [
      "                                                              \r"
     ]
    },
    {
     "name": "stdout",
     "output_type": "stream",
     "text": [
      "Epoch 139/200, Train Loss: 0.7331, Train Acc: 0.5239, Val Loss: 0.9582, Val Acc: 0.6939\n"
     ]
    },
    {
     "name": "stderr",
     "output_type": "stream",
     "text": [
      "                                                              \r"
     ]
    },
    {
     "name": "stdout",
     "output_type": "stream",
     "text": [
      "Epoch 140/200, Train Loss: 0.8284, Train Acc: 0.5786, Val Loss: 0.9985, Val Acc: 0.6973\n"
     ]
    },
    {
     "name": "stderr",
     "output_type": "stream",
     "text": [
      "                                                              \r"
     ]
    },
    {
     "name": "stdout",
     "output_type": "stream",
     "text": [
      "Epoch 141/200, Train Loss: 0.6420, Train Acc: 0.5857, Val Loss: 0.9841, Val Acc: 0.7024\n"
     ]
    },
    {
     "name": "stderr",
     "output_type": "stream",
     "text": [
      "                                                              \r"
     ]
    },
    {
     "name": "stdout",
     "output_type": "stream",
     "text": [
      "Epoch 142/200, Train Loss: 0.6695, Train Acc: 0.5382, Val Loss: 0.9899, Val Acc: 0.7109\n"
     ]
    },
    {
     "name": "stderr",
     "output_type": "stream",
     "text": [
      "                                                              \r"
     ]
    },
    {
     "name": "stdout",
     "output_type": "stream",
     "text": [
      "Epoch 143/200, Train Loss: 0.6757, Train Acc: 0.6584, Val Loss: 0.9676, Val Acc: 0.7058\n"
     ]
    },
    {
     "name": "stderr",
     "output_type": "stream",
     "text": [
      "                                                              \r"
     ]
    },
    {
     "name": "stdout",
     "output_type": "stream",
     "text": [
      "Epoch 144/200, Train Loss: 0.7568, Train Acc: 0.4782, Val Loss: 0.9125, Val Acc: 0.7296\n"
     ]
    },
    {
     "name": "stderr",
     "output_type": "stream",
     "text": [
      "                                                              \r"
     ]
    },
    {
     "name": "stdout",
     "output_type": "stream",
     "text": [
      "Epoch 145/200, Train Loss: 0.7075, Train Acc: 0.6296, Val Loss: 0.9849, Val Acc: 0.7024\n"
     ]
    },
    {
     "name": "stderr",
     "output_type": "stream",
     "text": [
      "                                                              \r"
     ]
    },
    {
     "name": "stdout",
     "output_type": "stream",
     "text": [
      "Epoch 146/200, Train Loss: 0.6845, Train Acc: 0.6273, Val Loss: 1.0039, Val Acc: 0.7092\n"
     ]
    },
    {
     "name": "stderr",
     "output_type": "stream",
     "text": [
      "                                                              \r"
     ]
    },
    {
     "name": "stdout",
     "output_type": "stream",
     "text": [
      "Epoch 147/200, Train Loss: 0.8320, Train Acc: 0.5567, Val Loss: 0.9506, Val Acc: 0.7245\n"
     ]
    },
    {
     "name": "stderr",
     "output_type": "stream",
     "text": [
      "                                                              \r"
     ]
    },
    {
     "name": "stdout",
     "output_type": "stream",
     "text": [
      "Epoch 148/200, Train Loss: 0.6852, Train Acc: 0.5451, Val Loss: 0.9492, Val Acc: 0.7177\n"
     ]
    },
    {
     "name": "stderr",
     "output_type": "stream",
     "text": [
      "                                                              \r"
     ]
    },
    {
     "name": "stdout",
     "output_type": "stream",
     "text": [
      "Epoch 149/200, Train Loss: 0.7315, Train Acc: 0.6114, Val Loss: 0.9751, Val Acc: 0.7194\n"
     ]
    },
    {
     "name": "stderr",
     "output_type": "stream",
     "text": [
      "                                                              \r"
     ]
    },
    {
     "name": "stdout",
     "output_type": "stream",
     "text": [
      "Epoch 150/200, Train Loss: 0.7282, Train Acc: 0.5761, Val Loss: 0.9674, Val Acc: 0.7075\n"
     ]
    },
    {
     "name": "stderr",
     "output_type": "stream",
     "text": [
      "                                                              \r"
     ]
    },
    {
     "name": "stdout",
     "output_type": "stream",
     "text": [
      "Epoch 151/200, Train Loss: 0.6567, Train Acc: 0.4792, Val Loss: 0.9261, Val Acc: 0.7211\n"
     ]
    },
    {
     "name": "stderr",
     "output_type": "stream",
     "text": [
      "                                                              \r"
     ]
    },
    {
     "name": "stdout",
     "output_type": "stream",
     "text": [
      "Epoch 152/200, Train Loss: 0.7687, Train Acc: 0.5092, Val Loss: 0.9359, Val Acc: 0.7228\n"
     ]
    },
    {
     "name": "stderr",
     "output_type": "stream",
     "text": [
      "                                                              \r"
     ]
    },
    {
     "name": "stdout",
     "output_type": "stream",
     "text": [
      "Epoch 153/200, Train Loss: 0.8012, Train Acc: 0.4394, Val Loss: 0.9559, Val Acc: 0.7177\n"
     ]
    },
    {
     "name": "stderr",
     "output_type": "stream",
     "text": [
      "                                                              \r"
     ]
    },
    {
     "name": "stdout",
     "output_type": "stream",
     "text": [
      "Epoch 154/200, Train Loss: 0.5790, Train Acc: 0.6316, Val Loss: 0.9393, Val Acc: 0.7194\n"
     ]
    },
    {
     "name": "stderr",
     "output_type": "stream",
     "text": [
      "                                                              \r"
     ]
    },
    {
     "name": "stdout",
     "output_type": "stream",
     "text": [
      "Epoch 155/200, Train Loss: 0.8018, Train Acc: 0.5661, Val Loss: 0.9774, Val Acc: 0.6990\n"
     ]
    },
    {
     "name": "stderr",
     "output_type": "stream",
     "text": [
      "                                                              \r"
     ]
    },
    {
     "name": "stdout",
     "output_type": "stream",
     "text": [
      "Epoch 156/200, Train Loss: 0.8194, Train Acc: 0.5245, Val Loss: 0.9867, Val Acc: 0.6871\n"
     ]
    },
    {
     "name": "stderr",
     "output_type": "stream",
     "text": [
      "                                                              \r"
     ]
    },
    {
     "name": "stdout",
     "output_type": "stream",
     "text": [
      "Epoch 157/200, Train Loss: 0.9119, Train Acc: 0.5978, Val Loss: 0.9055, Val Acc: 0.7262\n"
     ]
    },
    {
     "name": "stderr",
     "output_type": "stream",
     "text": [
      "                                                              \r"
     ]
    },
    {
     "name": "stdout",
     "output_type": "stream",
     "text": [
      "Epoch 158/200, Train Loss: 0.7129, Train Acc: 0.4871, Val Loss: 0.9429, Val Acc: 0.7126\n"
     ]
    },
    {
     "name": "stderr",
     "output_type": "stream",
     "text": [
      "                                                              \r"
     ]
    },
    {
     "name": "stdout",
     "output_type": "stream",
     "text": [
      "Epoch 159/200, Train Loss: 0.5966, Train Acc: 0.5618, Val Loss: 0.9390, Val Acc: 0.7262\n"
     ]
    },
    {
     "name": "stderr",
     "output_type": "stream",
     "text": [
      "                                                              \r"
     ]
    },
    {
     "name": "stdout",
     "output_type": "stream",
     "text": [
      "Epoch 160/200, Train Loss: 0.6674, Train Acc: 0.4969, Val Loss: 0.9398, Val Acc: 0.7160\n"
     ]
    },
    {
     "name": "stderr",
     "output_type": "stream",
     "text": [
      "                                                              \r"
     ]
    },
    {
     "name": "stdout",
     "output_type": "stream",
     "text": [
      "Epoch 161/200, Train Loss: 0.5829, Train Acc: 0.5276, Val Loss: 0.9565, Val Acc: 0.7245\n"
     ]
    },
    {
     "name": "stderr",
     "output_type": "stream",
     "text": [
      "                                                              \r"
     ]
    },
    {
     "name": "stdout",
     "output_type": "stream",
     "text": [
      "Epoch 162/200, Train Loss: 0.6508, Train Acc: 0.4235, Val Loss: 0.9371, Val Acc: 0.7143\n"
     ]
    },
    {
     "name": "stderr",
     "output_type": "stream",
     "text": [
      "                                                              \r"
     ]
    },
    {
     "name": "stdout",
     "output_type": "stream",
     "text": [
      "Epoch 163/200, Train Loss: 0.7475, Train Acc: 0.4686, Val Loss: 0.9413, Val Acc: 0.7177\n"
     ]
    },
    {
     "name": "stderr",
     "output_type": "stream",
     "text": [
      "                                                              \r"
     ]
    },
    {
     "name": "stdout",
     "output_type": "stream",
     "text": [
      "Epoch 164/200, Train Loss: 0.6794, Train Acc: 0.5522, Val Loss: 0.9657, Val Acc: 0.7262\n"
     ]
    },
    {
     "name": "stderr",
     "output_type": "stream",
     "text": [
      "                                                              \r"
     ]
    },
    {
     "name": "stdout",
     "output_type": "stream",
     "text": [
      "Epoch 165/200, Train Loss: 0.7855, Train Acc: 0.5261, Val Loss: 0.9619, Val Acc: 0.7177\n"
     ]
    },
    {
     "name": "stderr",
     "output_type": "stream",
     "text": [
      "                                                              \r"
     ]
    },
    {
     "name": "stdout",
     "output_type": "stream",
     "text": [
      "Epoch 166/200, Train Loss: 0.6414, Train Acc: 0.5888, Val Loss: 0.9570, Val Acc: 0.7279\n"
     ]
    },
    {
     "name": "stderr",
     "output_type": "stream",
     "text": [
      "                                                              \r"
     ]
    },
    {
     "name": "stdout",
     "output_type": "stream",
     "text": [
      "Epoch 167/200, Train Loss: 0.6199, Train Acc: 0.5863, Val Loss: 0.9516, Val Acc: 0.7194\n"
     ]
    },
    {
     "name": "stderr",
     "output_type": "stream",
     "text": [
      "                                                              \r"
     ]
    },
    {
     "name": "stdout",
     "output_type": "stream",
     "text": [
      "Epoch 168/200, Train Loss: 0.7227, Train Acc: 0.5088, Val Loss: 0.9436, Val Acc: 0.7194\n"
     ]
    },
    {
     "name": "stderr",
     "output_type": "stream",
     "text": [
      "                                                              \r"
     ]
    },
    {
     "name": "stdout",
     "output_type": "stream",
     "text": [
      "Epoch 169/200, Train Loss: 0.8512, Train Acc: 0.5224, Val Loss: 0.9494, Val Acc: 0.7177\n"
     ]
    },
    {
     "name": "stderr",
     "output_type": "stream",
     "text": [
      "                                                              \r"
     ]
    },
    {
     "name": "stdout",
     "output_type": "stream",
     "text": [
      "Epoch 170/200, Train Loss: 0.7080, Train Acc: 0.6282, Val Loss: 0.9310, Val Acc: 0.7194\n"
     ]
    },
    {
     "name": "stderr",
     "output_type": "stream",
     "text": [
      "                                                              \r"
     ]
    },
    {
     "name": "stdout",
     "output_type": "stream",
     "text": [
      "Epoch 171/200, Train Loss: 0.7081, Train Acc: 0.6327, Val Loss: 0.9510, Val Acc: 0.7177\n"
     ]
    },
    {
     "name": "stderr",
     "output_type": "stream",
     "text": [
      "                                                              \r"
     ]
    },
    {
     "name": "stdout",
     "output_type": "stream",
     "text": [
      "Epoch 172/200, Train Loss: 0.6616, Train Acc: 0.5057, Val Loss: 0.9384, Val Acc: 0.7143\n"
     ]
    },
    {
     "name": "stderr",
     "output_type": "stream",
     "text": [
      "                                                              \r"
     ]
    },
    {
     "name": "stdout",
     "output_type": "stream",
     "text": [
      "Epoch 173/200, Train Loss: 0.7134, Train Acc: 0.5265, Val Loss: 0.9500, Val Acc: 0.7228\n"
     ]
    },
    {
     "name": "stderr",
     "output_type": "stream",
     "text": [
      "                                                              \r"
     ]
    },
    {
     "name": "stdout",
     "output_type": "stream",
     "text": [
      "Epoch 174/200, Train Loss: 0.6793, Train Acc: 0.5498, Val Loss: 0.9322, Val Acc: 0.7194\n"
     ]
    },
    {
     "name": "stderr",
     "output_type": "stream",
     "text": [
      "                                                              \r"
     ]
    },
    {
     "name": "stdout",
     "output_type": "stream",
     "text": [
      "Epoch 175/200, Train Loss: 0.6731, Train Acc: 0.4571, Val Loss: 0.9369, Val Acc: 0.7228\n"
     ]
    },
    {
     "name": "stderr",
     "output_type": "stream",
     "text": [
      "                                                              \r"
     ]
    },
    {
     "name": "stdout",
     "output_type": "stream",
     "text": [
      "Epoch 176/200, Train Loss: 0.7273, Train Acc: 0.5922, Val Loss: 0.9351, Val Acc: 0.7211\n"
     ]
    },
    {
     "name": "stderr",
     "output_type": "stream",
     "text": [
      "                                                              \r"
     ]
    },
    {
     "name": "stdout",
     "output_type": "stream",
     "text": [
      "Epoch 177/200, Train Loss: 0.6738, Train Acc: 0.4912, Val Loss: 0.9708, Val Acc: 0.7109\n"
     ]
    },
    {
     "name": "stderr",
     "output_type": "stream",
     "text": [
      "                                                              \r"
     ]
    },
    {
     "name": "stdout",
     "output_type": "stream",
     "text": [
      "Epoch 178/200, Train Loss: 0.7042, Train Acc: 0.6094, Val Loss: 0.9226, Val Acc: 0.7228\n"
     ]
    },
    {
     "name": "stderr",
     "output_type": "stream",
     "text": [
      "                                                              \r"
     ]
    },
    {
     "name": "stdout",
     "output_type": "stream",
     "text": [
      "Epoch 179/200, Train Loss: 0.7298, Train Acc: 0.5557, Val Loss: 0.9271, Val Acc: 0.7211\n"
     ]
    },
    {
     "name": "stderr",
     "output_type": "stream",
     "text": [
      "                                                              \r"
     ]
    },
    {
     "name": "stdout",
     "output_type": "stream",
     "text": [
      "Epoch 180/200, Train Loss: 0.7437, Train Acc: 0.6782, Val Loss: 0.9513, Val Acc: 0.7143\n"
     ]
    },
    {
     "name": "stderr",
     "output_type": "stream",
     "text": [
      "                                                              \r"
     ]
    },
    {
     "name": "stdout",
     "output_type": "stream",
     "text": [
      "Epoch 181/200, Train Loss: 0.7646, Train Acc: 0.5898, Val Loss: 0.9418, Val Acc: 0.7160\n"
     ]
    },
    {
     "name": "stderr",
     "output_type": "stream",
     "text": [
      "                                                              \r"
     ]
    },
    {
     "name": "stdout",
     "output_type": "stream",
     "text": [
      "Epoch 182/200, Train Loss: 0.7004, Train Acc: 0.5378, Val Loss: 0.9325, Val Acc: 0.7211\n"
     ]
    },
    {
     "name": "stderr",
     "output_type": "stream",
     "text": [
      "                                                              \r"
     ]
    },
    {
     "name": "stdout",
     "output_type": "stream",
     "text": [
      "Epoch 183/200, Train Loss: 0.6263, Train Acc: 0.4980, Val Loss: 0.9592, Val Acc: 0.7177\n"
     ]
    },
    {
     "name": "stderr",
     "output_type": "stream",
     "text": [
      "                                                              \r"
     ]
    },
    {
     "name": "stdout",
     "output_type": "stream",
     "text": [
      "Epoch 184/200, Train Loss: 0.7304, Train Acc: 0.4780, Val Loss: 0.9443, Val Acc: 0.7126\n"
     ]
    },
    {
     "name": "stderr",
     "output_type": "stream",
     "text": [
      "                                                              \r"
     ]
    },
    {
     "name": "stdout",
     "output_type": "stream",
     "text": [
      "Epoch 185/200, Train Loss: 0.6632, Train Acc: 0.5743, Val Loss: 0.9386, Val Acc: 0.7143\n"
     ]
    },
    {
     "name": "stderr",
     "output_type": "stream",
     "text": [
      "                                                              \r"
     ]
    },
    {
     "name": "stdout",
     "output_type": "stream",
     "text": [
      "Epoch 186/200, Train Loss: 0.6613, Train Acc: 0.5292, Val Loss: 0.9226, Val Acc: 0.7245\n"
     ]
    },
    {
     "name": "stderr",
     "output_type": "stream",
     "text": [
      "                                                              \r"
     ]
    },
    {
     "name": "stdout",
     "output_type": "stream",
     "text": [
      "Epoch 187/200, Train Loss: 0.7479, Train Acc: 0.5741, Val Loss: 0.9422, Val Acc: 0.7228\n"
     ]
    },
    {
     "name": "stderr",
     "output_type": "stream",
     "text": [
      "                                                              \r"
     ]
    },
    {
     "name": "stdout",
     "output_type": "stream",
     "text": [
      "Epoch 188/200, Train Loss: 0.6282, Train Acc: 0.4612, Val Loss: 0.9493, Val Acc: 0.7177\n"
     ]
    },
    {
     "name": "stderr",
     "output_type": "stream",
     "text": [
      "                                                              \r"
     ]
    },
    {
     "name": "stdout",
     "output_type": "stream",
     "text": [
      "Epoch 189/200, Train Loss: 0.8587, Train Acc: 0.5388, Val Loss: 0.9378, Val Acc: 0.7211\n"
     ]
    },
    {
     "name": "stderr",
     "output_type": "stream",
     "text": [
      "                                                              \r"
     ]
    },
    {
     "name": "stdout",
     "output_type": "stream",
     "text": [
      "Epoch 190/200, Train Loss: 0.5629, Train Acc: 0.5557, Val Loss: 0.9457, Val Acc: 0.7211\n"
     ]
    },
    {
     "name": "stderr",
     "output_type": "stream",
     "text": [
      "                                                              \r"
     ]
    },
    {
     "name": "stdout",
     "output_type": "stream",
     "text": [
      "Epoch 191/200, Train Loss: 0.8215, Train Acc: 0.5357, Val Loss: 0.9442, Val Acc: 0.7109\n"
     ]
    },
    {
     "name": "stderr",
     "output_type": "stream",
     "text": [
      "                                                              \r"
     ]
    },
    {
     "name": "stdout",
     "output_type": "stream",
     "text": [
      "Epoch 192/200, Train Loss: 0.7241, Train Acc: 0.4682, Val Loss: 0.9371, Val Acc: 0.7109\n"
     ]
    },
    {
     "name": "stderr",
     "output_type": "stream",
     "text": [
      "                                                              \r"
     ]
    },
    {
     "name": "stdout",
     "output_type": "stream",
     "text": [
      "Epoch 193/200, Train Loss: 0.6457, Train Acc: 0.5451, Val Loss: 0.9370, Val Acc: 0.7211\n"
     ]
    },
    {
     "name": "stderr",
     "output_type": "stream",
     "text": [
      "                                                              \r"
     ]
    },
    {
     "name": "stdout",
     "output_type": "stream",
     "text": [
      "Epoch 194/200, Train Loss: 0.7655, Train Acc: 0.5198, Val Loss: 0.9235, Val Acc: 0.7245\n"
     ]
    },
    {
     "name": "stderr",
     "output_type": "stream",
     "text": [
      "                                                              \r"
     ]
    },
    {
     "name": "stdout",
     "output_type": "stream",
     "text": [
      "Epoch 195/200, Train Loss: 0.6846, Train Acc: 0.6455, Val Loss: 0.9463, Val Acc: 0.7109\n"
     ]
    },
    {
     "name": "stderr",
     "output_type": "stream",
     "text": [
      "                                                              \r"
     ]
    },
    {
     "name": "stdout",
     "output_type": "stream",
     "text": [
      "Epoch 196/200, Train Loss: 0.6941, Train Acc: 0.4994, Val Loss: 0.9248, Val Acc: 0.7143\n"
     ]
    },
    {
     "name": "stderr",
     "output_type": "stream",
     "text": [
      "                                                              \r"
     ]
    },
    {
     "name": "stdout",
     "output_type": "stream",
     "text": [
      "Epoch 197/200, Train Loss: 0.7977, Train Acc: 0.5947, Val Loss: 0.9586, Val Acc: 0.7143\n"
     ]
    },
    {
     "name": "stderr",
     "output_type": "stream",
     "text": [
      "                                                              \r"
     ]
    },
    {
     "name": "stdout",
     "output_type": "stream",
     "text": [
      "Epoch 198/200, Train Loss: 0.6741, Train Acc: 0.5182, Val Loss: 0.9604, Val Acc: 0.7092\n"
     ]
    },
    {
     "name": "stderr",
     "output_type": "stream",
     "text": [
      "                                                              \r"
     ]
    },
    {
     "name": "stdout",
     "output_type": "stream",
     "text": [
      "Epoch 199/200, Train Loss: 0.7671, Train Acc: 0.5649, Val Loss: 0.9553, Val Acc: 0.7126\n"
     ]
    },
    {
     "name": "stderr",
     "output_type": "stream",
     "text": [
      "                                                              "
     ]
    },
    {
     "name": "stdout",
     "output_type": "stream",
     "text": [
      "Epoch 200/200, Train Loss: 0.6903, Train Acc: 0.4641, Val Loss: 0.9449, Val Acc: 0.7143\n"
     ]
    },
    {
     "name": "stderr",
     "output_type": "stream",
     "text": [
      "\r"
     ]
    }
   ],
   "source": [
    "for epoch in range(num_epochs):\n",
    "    \n",
    "    model.train()\n",
    "    train_loss = 0\n",
    "    correct_train = 0\n",
    "    total_train = 0\n",
    "    for inputs, targets in tqdm(train_loader, desc=f'Epoch {epoch+1}/{num_epochs}', leave=False):\n",
    "        inputs, targets = inputs.to(device), targets.to(device)\n",
    "\n",
    "        if use_mixup:\n",
    "            inputs, y_a, y_b, lam = mixup_data(inputs, targets)\n",
    "\n",
    "        outputs = model(inputs)\n",
    "\n",
    "        if use_mixup:\n",
    "            loss = mixup_criterion(criterion, outputs, y_a, y_b, lam)\n",
    "            \n",
    "        #loss = criterion(outputs, targets)\n",
    "\n",
    "        optimizer.zero_grad()\n",
    "        loss.backward()\n",
    "        optimizer.step()\n",
    "        train_loss += loss.item()\n",
    "        predictions = torch.argmax(outputs, dim=1)\n",
    "        correct_train += (predictions == targets).sum().item()\n",
    "        total_train += targets.size(0)\n",
    "\n",
    "    train_acc = correct_train / total_train\n",
    "    train_loss /= len(train_loader)\n",
    "\n",
    "    scheduler.step(epoch)\n",
    "\n",
    "    # Validation Phase\n",
    "    model.eval()\n",
    "    val_loss = 0\n",
    "    correct_val = 0\n",
    "    total_val = 0\n",
    "    with torch.no_grad():\n",
    "        for inputs, targets in tqdm(val_loader, desc=f'Epoch {epoch+1}/{num_epochs}', leave=False):\n",
    "            inputs, targets = inputs.to(device), targets.to(device)\n",
    "            outputs = model(inputs)\n",
    "            loss = criterion(outputs, targets)\n",
    "            val_loss += loss.item()\n",
    "\n",
    "            predictions = torch.argmax(outputs, dim=1)\n",
    "            correct_val += (predictions == targets).sum().item()\n",
    "            total_val += targets.size(0)\n",
    "\n",
    "    val_acc = correct_val / total_val\n",
    "    val_loss /= len(val_loader)\n",
    "\n",
    "    # Log and print details\n",
    "    print(f\"Epoch {epoch + 1}/{num_epochs}, Train Loss: {train_loss:.4f}, Train Acc: {train_acc:.4f}, Val Loss: {val_loss:.4f}, Val Acc: {val_acc:.4f}\")\n",
    "    with open(log_file, \"a\") as f:\n",
    "        f.write(f\"Epoch {epoch + 1}/{num_epochs}, Train Loss: {train_loss:.4f}, Train Acc: {train_acc:.4f}, Val Loss: {val_loss:.4f}, Val Acc: {val_acc:.4f}\\n\")\n",
    "\n",
    "    # Save model\n",
    "    torch.save(model.state_dict(), \"deit_from_scratch21.pth\")"
   ]
  },
  {
   "cell_type": "code",
   "execution_count": 28,
   "id": "277a67b6-90d7-4f36-b9f4-e0f8e4c6e93a",
   "metadata": {},
   "outputs": [
    {
     "data": {
      "image/png": "[encoded data removed]",
      "text/plain": [
       "<Figure size 1400x600 with 2 Axes>"
      ]
     },
     "metadata": {},
     "output_type": "display_data"
    }
   ],
   "source": [
    "log_file_path = 'saved_models/training_log21.txt'\n",
    "\n",
    "plot_loss(log_file_path)"
   ]
  },
  {
   "cell_type": "markdown",
   "id": "ab7cd6b5-b346-488a-8964-358dcaf74e33",
   "metadata": {},
   "source": [
    "# Test results"
   ]
  },
  {
   "cell_type": "code",
   "execution_count": 30,
   "id": "35169ed4-7bd4-4663-86fe-f0bc5b0aaf3a",
   "metadata": {},
   "outputs": [
    {
     "name": "stdout",
     "output_type": "stream",
     "text": [
      "Classification Report:\n",
      "                   precision    recall  f1-score   support\n",
      "\n",
      "cat07 MasAptMotel       0.72      0.72      0.72        18\n",
      "  cat10 StripMall       0.92      0.88      0.90        25\n",
      "    cat17 LowRise       0.61      0.71      0.65        24\n",
      "    cat18 MidRise       0.76      0.68      0.72        19\n",
      "   cat19 HighRise       0.67      0.71      0.69        17\n",
      "  cat21 MetalBldg       0.79      0.70      0.75        27\n",
      "     cat22 Canopy       0.83      0.88      0.86        17\n",
      "\n",
      "         accuracy                           0.76       147\n",
      "        macro avg       0.76      0.76      0.75       147\n",
      "     weighted avg       0.76      0.76      0.76       147\n",
      "\n",
      "Confusion Matrix:\n",
      "[[13  0  2  0  1  1  1]\n",
      " [ 0 22  1  0  0  2  0]\n",
      " [ 0  0 17  3  2  0  2]\n",
      " [ 2  0  3 13  0  1  0]\n",
      " [ 0  0  3  1 12  1  0]\n",
      " [ 2  2  1  0  3 19  0]\n",
      " [ 1  0  1  0  0  0 15]]\n"
     ]
    }
   ],
   "source": [
    "\n",
    "# Function to evaluate the model and generate a classification report\n",
    "def evaluate_model(model, dataloader, device, class_names):\n",
    "    model.eval()\n",
    "    all_preds = []\n",
    "    all_labels = []\n",
    "\n",
    "    with torch.no_grad():\n",
    "        for inputs, labels in dataloader:\n",
    "            inputs, labels = inputs.to(device), labels.to(device)\n",
    "\n",
    "            \n",
    "            outputs = model(inputs)\n",
    "            predictions = torch.argmax(outputs, dim=1)\n",
    "\n",
    "            \n",
    "            all_preds.extend(predictions.cpu().numpy())\n",
    "            all_labels.extend(labels.cpu().numpy())\n",
    "\n",
    "    \n",
    "    report = classification_report(all_labels, all_preds, target_names=class_names)\n",
    "    print(\"Classification Report:\")\n",
    "    print(report)\n",
    "\n",
    "    \n",
    "    cm = confusion_matrix(all_labels, all_preds)\n",
    "    print(\"Confusion Matrix:\")\n",
    "    print(cm)\n",
    "    \n",
    "class_names = [\"cat07 MasAptMotel\", \"cat10 StripMall\", \"cat17 LowRise\", \"cat18 MidRise\", \"cat19 HighRise\", \"cat21 MetalBldg\", \"cat22 Canopy\"]  # Replace with actual class names\n",
    "evaluate_model(model, test_loader, device, class_names)\n"
   ]
  },
  {
   "cell_type": "code",
   "execution_count": null,
   "id": "8a7be065-4d41-4ba8-8397-8aa4e4b10ce2",
   "metadata": {},
   "outputs": [],
   "source": []
  }
 ],
 "metadata": {
  "kernelspec": {
   "display_name": "Python 3 (ipykernel)",
   "language": "python",
   "name": "python3"
  },
  "language_info": {
   "codemirror_mode": {
    "name": "ipython",
    "version": 3
   },
   "file_extension": ".py",
   "mimetype": "text/x-python",
   "name": "python",
   "nbconvert_exporter": "python",
   "pygments_lexer": "ipython3",
   "version": "3.11.10"
  }
 },
 "nbformat": 4,
 "nbformat_minor": 5
}
